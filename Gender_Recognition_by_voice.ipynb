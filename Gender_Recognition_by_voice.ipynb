{
  "cells": [
    {
      "cell_type": "markdown",
      "metadata": {
        "id": "0jUR_YvaXKtK"
      },
      "source": [
        "# Data Visualization"
      ]
    },
    {
      "cell_type": "code",
      "execution_count": 39,
      "metadata": {
        "collapsed": true,
        "id": "YH3ghsMb_EAl"
      },
      "outputs": [],
      "source": [
        "#import libraries\n",
        "%matplotlib inline\n",
        "import pandas as pd\n",
        "import matplotlib.pyplot as plt\n",
        "import seaborn as sns\n",
        "from time import time"
      ]
    },
    {
      "cell_type": "code",
      "execution_count": 40,
      "metadata": {
        "colab": {
          "base_uri": "https://localhost:8080/",
          "height": 253
        },
        "id": "Am9Dijyu_EAp",
        "outputId": "98b48443-7b08-43e1-d82e-80a3fd07acfa"
      },
      "outputs": [
        {
          "data": {
            "text/html": [
              "\n",
              "  <div id=\"df-0aa8e936-690c-4b58-962e-6b9120f1a1f9\">\n",
              "    <div class=\"colab-df-container\">\n",
              "      <div>\n",
              "<style scoped>\n",
              "    .dataframe tbody tr th:only-of-type {\n",
              "        vertical-align: middle;\n",
              "    }\n",
              "\n",
              "    .dataframe tbody tr th {\n",
              "        vertical-align: top;\n",
              "    }\n",
              "\n",
              "    .dataframe thead th {\n",
              "        text-align: right;\n",
              "    }\n",
              "</style>\n",
              "<table border=\"1\" class=\"dataframe\">\n",
              "  <thead>\n",
              "    <tr style=\"text-align: right;\">\n",
              "      <th></th>\n",
              "      <th>meanfreq</th>\n",
              "      <th>sd</th>\n",
              "      <th>median</th>\n",
              "      <th>Q25</th>\n",
              "      <th>Q75</th>\n",
              "      <th>IQR</th>\n",
              "      <th>skew</th>\n",
              "      <th>kurt</th>\n",
              "      <th>sp.ent</th>\n",
              "      <th>sfm</th>\n",
              "      <th>...</th>\n",
              "      <th>centroid</th>\n",
              "      <th>meanfun</th>\n",
              "      <th>minfun</th>\n",
              "      <th>maxfun</th>\n",
              "      <th>meandom</th>\n",
              "      <th>mindom</th>\n",
              "      <th>maxdom</th>\n",
              "      <th>dfrange</th>\n",
              "      <th>modindx</th>\n",
              "      <th>label</th>\n",
              "    </tr>\n",
              "  </thead>\n",
              "  <tbody>\n",
              "    <tr>\n",
              "      <th>0</th>\n",
              "      <td>0.059781</td>\n",
              "      <td>0.064241</td>\n",
              "      <td>0.032027</td>\n",
              "      <td>0.015071</td>\n",
              "      <td>0.090193</td>\n",
              "      <td>0.075122</td>\n",
              "      <td>12.863462</td>\n",
              "      <td>274.402906</td>\n",
              "      <td>0.893369</td>\n",
              "      <td>0.491918</td>\n",
              "      <td>...</td>\n",
              "      <td>0.059781</td>\n",
              "      <td>0.084279</td>\n",
              "      <td>0.015702</td>\n",
              "      <td>0.275862</td>\n",
              "      <td>0.007812</td>\n",
              "      <td>0.007812</td>\n",
              "      <td>0.007812</td>\n",
              "      <td>0.000000</td>\n",
              "      <td>0.000000</td>\n",
              "      <td>male</td>\n",
              "    </tr>\n",
              "    <tr>\n",
              "      <th>1</th>\n",
              "      <td>0.066009</td>\n",
              "      <td>0.067310</td>\n",
              "      <td>0.040229</td>\n",
              "      <td>0.019414</td>\n",
              "      <td>0.092666</td>\n",
              "      <td>0.073252</td>\n",
              "      <td>22.423285</td>\n",
              "      <td>634.613855</td>\n",
              "      <td>0.892193</td>\n",
              "      <td>0.513724</td>\n",
              "      <td>...</td>\n",
              "      <td>0.066009</td>\n",
              "      <td>0.107937</td>\n",
              "      <td>0.015826</td>\n",
              "      <td>0.250000</td>\n",
              "      <td>0.009014</td>\n",
              "      <td>0.007812</td>\n",
              "      <td>0.054688</td>\n",
              "      <td>0.046875</td>\n",
              "      <td>0.052632</td>\n",
              "      <td>male</td>\n",
              "    </tr>\n",
              "    <tr>\n",
              "      <th>2</th>\n",
              "      <td>0.077316</td>\n",
              "      <td>0.083829</td>\n",
              "      <td>0.036718</td>\n",
              "      <td>0.008701</td>\n",
              "      <td>0.131908</td>\n",
              "      <td>0.123207</td>\n",
              "      <td>30.757155</td>\n",
              "      <td>1024.927705</td>\n",
              "      <td>0.846389</td>\n",
              "      <td>0.478905</td>\n",
              "      <td>...</td>\n",
              "      <td>0.077316</td>\n",
              "      <td>0.098706</td>\n",
              "      <td>0.015656</td>\n",
              "      <td>0.271186</td>\n",
              "      <td>0.007990</td>\n",
              "      <td>0.007812</td>\n",
              "      <td>0.015625</td>\n",
              "      <td>0.007812</td>\n",
              "      <td>0.046512</td>\n",
              "      <td>male</td>\n",
              "    </tr>\n",
              "    <tr>\n",
              "      <th>3</th>\n",
              "      <td>0.151228</td>\n",
              "      <td>0.072111</td>\n",
              "      <td>0.158011</td>\n",
              "      <td>0.096582</td>\n",
              "      <td>0.207955</td>\n",
              "      <td>0.111374</td>\n",
              "      <td>1.232831</td>\n",
              "      <td>4.177296</td>\n",
              "      <td>0.963322</td>\n",
              "      <td>0.727232</td>\n",
              "      <td>...</td>\n",
              "      <td>0.151228</td>\n",
              "      <td>0.088965</td>\n",
              "      <td>0.017798</td>\n",
              "      <td>0.250000</td>\n",
              "      <td>0.201497</td>\n",
              "      <td>0.007812</td>\n",
              "      <td>0.562500</td>\n",
              "      <td>0.554688</td>\n",
              "      <td>0.247119</td>\n",
              "      <td>male</td>\n",
              "    </tr>\n",
              "    <tr>\n",
              "      <th>4</th>\n",
              "      <td>0.135120</td>\n",
              "      <td>0.079146</td>\n",
              "      <td>0.124656</td>\n",
              "      <td>0.078720</td>\n",
              "      <td>0.206045</td>\n",
              "      <td>0.127325</td>\n",
              "      <td>1.101174</td>\n",
              "      <td>4.333713</td>\n",
              "      <td>0.971955</td>\n",
              "      <td>0.783568</td>\n",
              "      <td>...</td>\n",
              "      <td>0.135120</td>\n",
              "      <td>0.106398</td>\n",
              "      <td>0.016931</td>\n",
              "      <td>0.266667</td>\n",
              "      <td>0.712812</td>\n",
              "      <td>0.007812</td>\n",
              "      <td>5.484375</td>\n",
              "      <td>5.476562</td>\n",
              "      <td>0.208274</td>\n",
              "      <td>male</td>\n",
              "    </tr>\n",
              "  </tbody>\n",
              "</table>\n",
              "<p>5 rows × 21 columns</p>\n",
              "</div>\n",
              "      <button class=\"colab-df-convert\" onclick=\"convertToInteractive('df-0aa8e936-690c-4b58-962e-6b9120f1a1f9')\"\n",
              "              title=\"Convert this dataframe to an interactive table.\"\n",
              "              style=\"display:none;\">\n",
              "        \n",
              "  <svg xmlns=\"http://www.w3.org/2000/svg\" height=\"24px\"viewBox=\"0 0 24 24\"\n",
              "       width=\"24px\">\n",
              "    <path d=\"M0 0h24v24H0V0z\" fill=\"none\"/>\n",
              "    <path d=\"M18.56 5.44l.94 2.06.94-2.06 2.06-.94-2.06-.94-.94-2.06-.94 2.06-2.06.94zm-11 1L8.5 8.5l.94-2.06 2.06-.94-2.06-.94L8.5 2.5l-.94 2.06-2.06.94zm10 10l.94 2.06.94-2.06 2.06-.94-2.06-.94-.94-2.06-.94 2.06-2.06.94z\"/><path d=\"M17.41 7.96l-1.37-1.37c-.4-.4-.92-.59-1.43-.59-.52 0-1.04.2-1.43.59L10.3 9.45l-7.72 7.72c-.78.78-.78 2.05 0 2.83L4 21.41c.39.39.9.59 1.41.59.51 0 1.02-.2 1.41-.59l7.78-7.78 2.81-2.81c.8-.78.8-2.07 0-2.86zM5.41 20L4 18.59l7.72-7.72 1.47 1.35L5.41 20z\"/>\n",
              "  </svg>\n",
              "      </button>\n",
              "      \n",
              "  <style>\n",
              "    .colab-df-container {\n",
              "      display:flex;\n",
              "      flex-wrap:wrap;\n",
              "      gap: 12px;\n",
              "    }\n",
              "\n",
              "    .colab-df-convert {\n",
              "      background-color: #E8F0FE;\n",
              "      border: none;\n",
              "      border-radius: 50%;\n",
              "      cursor: pointer;\n",
              "      display: none;\n",
              "      fill: #1967D2;\n",
              "      height: 32px;\n",
              "      padding: 0 0 0 0;\n",
              "      width: 32px;\n",
              "    }\n",
              "\n",
              "    .colab-df-convert:hover {\n",
              "      background-color: #E2EBFA;\n",
              "      box-shadow: 0px 1px 2px rgba(60, 64, 67, 0.3), 0px 1px 3px 1px rgba(60, 64, 67, 0.15);\n",
              "      fill: #174EA6;\n",
              "    }\n",
              "\n",
              "    [theme=dark] .colab-df-convert {\n",
              "      background-color: #3B4455;\n",
              "      fill: #D2E3FC;\n",
              "    }\n",
              "\n",
              "    [theme=dark] .colab-df-convert:hover {\n",
              "      background-color: #434B5C;\n",
              "      box-shadow: 0px 1px 3px 1px rgba(0, 0, 0, 0.15);\n",
              "      filter: drop-shadow(0px 1px 2px rgba(0, 0, 0, 0.3));\n",
              "      fill: #FFFFFF;\n",
              "    }\n",
              "  </style>\n",
              "\n",
              "      <script>\n",
              "        const buttonEl =\n",
              "          document.querySelector('#df-0aa8e936-690c-4b58-962e-6b9120f1a1f9 button.colab-df-convert');\n",
              "        buttonEl.style.display =\n",
              "          google.colab.kernel.accessAllowed ? 'block' : 'none';\n",
              "\n",
              "        async function convertToInteractive(key) {\n",
              "          const element = document.querySelector('#df-0aa8e936-690c-4b58-962e-6b9120f1a1f9');\n",
              "          const dataTable =\n",
              "            await google.colab.kernel.invokeFunction('convertToInteractive',\n",
              "                                                     [key], {});\n",
              "          if (!dataTable) return;\n",
              "\n",
              "          const docLinkHtml = 'Like what you see? Visit the ' +\n",
              "            '<a target=\"_blank\" href=https://colab.research.google.com/notebooks/data_table.ipynb>data table notebook</a>'\n",
              "            + ' to learn more about interactive tables.';\n",
              "          element.innerHTML = '';\n",
              "          dataTable['output_type'] = 'display_data';\n",
              "          await google.colab.output.renderOutput(dataTable, element);\n",
              "          const docLink = document.createElement('div');\n",
              "          docLink.innerHTML = docLinkHtml;\n",
              "          element.appendChild(docLink);\n",
              "        }\n",
              "      </script>\n",
              "    </div>\n",
              "  </div>\n",
              "  "
            ],
            "text/plain": [
              "   meanfreq        sd    median       Q25       Q75       IQR       skew  \\\n",
              "0  0.059781  0.064241  0.032027  0.015071  0.090193  0.075122  12.863462   \n",
              "1  0.066009  0.067310  0.040229  0.019414  0.092666  0.073252  22.423285   \n",
              "2  0.077316  0.083829  0.036718  0.008701  0.131908  0.123207  30.757155   \n",
              "3  0.151228  0.072111  0.158011  0.096582  0.207955  0.111374   1.232831   \n",
              "4  0.135120  0.079146  0.124656  0.078720  0.206045  0.127325   1.101174   \n",
              "\n",
              "          kurt    sp.ent       sfm  ...  centroid   meanfun    minfun  \\\n",
              "0   274.402906  0.893369  0.491918  ...  0.059781  0.084279  0.015702   \n",
              "1   634.613855  0.892193  0.513724  ...  0.066009  0.107937  0.015826   \n",
              "2  1024.927705  0.846389  0.478905  ...  0.077316  0.098706  0.015656   \n",
              "3     4.177296  0.963322  0.727232  ...  0.151228  0.088965  0.017798   \n",
              "4     4.333713  0.971955  0.783568  ...  0.135120  0.106398  0.016931   \n",
              "\n",
              "     maxfun   meandom    mindom    maxdom   dfrange   modindx  label  \n",
              "0  0.275862  0.007812  0.007812  0.007812  0.000000  0.000000   male  \n",
              "1  0.250000  0.009014  0.007812  0.054688  0.046875  0.052632   male  \n",
              "2  0.271186  0.007990  0.007812  0.015625  0.007812  0.046512   male  \n",
              "3  0.250000  0.201497  0.007812  0.562500  0.554688  0.247119   male  \n",
              "4  0.266667  0.712812  0.007812  5.484375  5.476562  0.208274   male  \n",
              "\n",
              "[5 rows x 21 columns]"
            ]
          },
          "execution_count": 40,
          "metadata": {},
          "output_type": "execute_result"
        },
        {
          "name": "stdout",
          "output_type": "stream",
          "text": [
            "Warning: Total number of columns (21) exceeds max_columns (20) limiting to first (20) columns.\n"
          ]
        }
      ],
      "source": [
        "#read data file\n",
        "data = pd.read_csv('voice.csv')\n",
        "data.head() # will give top five rows "
      ]
    },
    {
      "cell_type": "code",
      "execution_count": 41,
      "metadata": {
        "colab": {
          "base_uri": "https://localhost:8080/",
          "height": 299
        },
        "id": "YIrx-G-l_EAq",
        "outputId": "fc7dadf5-27b6-4db8-e56a-4c43d96cf200"
      },
      "outputs": [
        {
          "data": {
            "text/html": [
              "\n",
              "  <div id=\"df-9cd6e264-1edb-4147-bc85-89daff703cf6\">\n",
              "    <div class=\"colab-df-container\">\n",
              "      <div>\n",
              "<style scoped>\n",
              "    .dataframe tbody tr th:only-of-type {\n",
              "        vertical-align: middle;\n",
              "    }\n",
              "\n",
              "    .dataframe tbody tr th {\n",
              "        vertical-align: top;\n",
              "    }\n",
              "\n",
              "    .dataframe thead th {\n",
              "        text-align: right;\n",
              "    }\n",
              "</style>\n",
              "<table border=\"1\" class=\"dataframe\">\n",
              "  <thead>\n",
              "    <tr style=\"text-align: right;\">\n",
              "      <th></th>\n",
              "      <th>meanfreq</th>\n",
              "      <th>sd</th>\n",
              "      <th>median</th>\n",
              "      <th>Q25</th>\n",
              "      <th>Q75</th>\n",
              "      <th>IQR</th>\n",
              "      <th>skew</th>\n",
              "      <th>kurt</th>\n",
              "      <th>sp.ent</th>\n",
              "      <th>sfm</th>\n",
              "      <th>...</th>\n",
              "      <th>centroid</th>\n",
              "      <th>meanfun</th>\n",
              "      <th>minfun</th>\n",
              "      <th>maxfun</th>\n",
              "      <th>meandom</th>\n",
              "      <th>mindom</th>\n",
              "      <th>maxdom</th>\n",
              "      <th>dfrange</th>\n",
              "      <th>modindx</th>\n",
              "      <th>label</th>\n",
              "    </tr>\n",
              "  </thead>\n",
              "  <tbody>\n",
              "    <tr>\n",
              "      <th>3163</th>\n",
              "      <td>0.131884</td>\n",
              "      <td>0.084734</td>\n",
              "      <td>0.153707</td>\n",
              "      <td>0.049285</td>\n",
              "      <td>0.201144</td>\n",
              "      <td>0.151859</td>\n",
              "      <td>1.762129</td>\n",
              "      <td>6.630383</td>\n",
              "      <td>0.962934</td>\n",
              "      <td>0.763182</td>\n",
              "      <td>...</td>\n",
              "      <td>0.131884</td>\n",
              "      <td>0.182790</td>\n",
              "      <td>0.083770</td>\n",
              "      <td>0.262295</td>\n",
              "      <td>0.832899</td>\n",
              "      <td>0.007812</td>\n",
              "      <td>4.210938</td>\n",
              "      <td>4.203125</td>\n",
              "      <td>0.161929</td>\n",
              "      <td>female</td>\n",
              "    </tr>\n",
              "    <tr>\n",
              "      <th>3164</th>\n",
              "      <td>0.116221</td>\n",
              "      <td>0.089221</td>\n",
              "      <td>0.076758</td>\n",
              "      <td>0.042718</td>\n",
              "      <td>0.204911</td>\n",
              "      <td>0.162193</td>\n",
              "      <td>0.693730</td>\n",
              "      <td>2.503954</td>\n",
              "      <td>0.960716</td>\n",
              "      <td>0.709570</td>\n",
              "      <td>...</td>\n",
              "      <td>0.116221</td>\n",
              "      <td>0.188980</td>\n",
              "      <td>0.034409</td>\n",
              "      <td>0.275862</td>\n",
              "      <td>0.909856</td>\n",
              "      <td>0.039062</td>\n",
              "      <td>3.679688</td>\n",
              "      <td>3.640625</td>\n",
              "      <td>0.277897</td>\n",
              "      <td>female</td>\n",
              "    </tr>\n",
              "    <tr>\n",
              "      <th>3165</th>\n",
              "      <td>0.142056</td>\n",
              "      <td>0.095798</td>\n",
              "      <td>0.183731</td>\n",
              "      <td>0.033424</td>\n",
              "      <td>0.224360</td>\n",
              "      <td>0.190936</td>\n",
              "      <td>1.876502</td>\n",
              "      <td>6.604509</td>\n",
              "      <td>0.946854</td>\n",
              "      <td>0.654196</td>\n",
              "      <td>...</td>\n",
              "      <td>0.142056</td>\n",
              "      <td>0.209918</td>\n",
              "      <td>0.039506</td>\n",
              "      <td>0.275862</td>\n",
              "      <td>0.494271</td>\n",
              "      <td>0.007812</td>\n",
              "      <td>2.937500</td>\n",
              "      <td>2.929688</td>\n",
              "      <td>0.194759</td>\n",
              "      <td>female</td>\n",
              "    </tr>\n",
              "    <tr>\n",
              "      <th>3166</th>\n",
              "      <td>0.143659</td>\n",
              "      <td>0.090628</td>\n",
              "      <td>0.184976</td>\n",
              "      <td>0.043508</td>\n",
              "      <td>0.219943</td>\n",
              "      <td>0.176435</td>\n",
              "      <td>1.591065</td>\n",
              "      <td>5.388298</td>\n",
              "      <td>0.950436</td>\n",
              "      <td>0.675470</td>\n",
              "      <td>...</td>\n",
              "      <td>0.143659</td>\n",
              "      <td>0.172375</td>\n",
              "      <td>0.034483</td>\n",
              "      <td>0.250000</td>\n",
              "      <td>0.791360</td>\n",
              "      <td>0.007812</td>\n",
              "      <td>3.593750</td>\n",
              "      <td>3.585938</td>\n",
              "      <td>0.311002</td>\n",
              "      <td>female</td>\n",
              "    </tr>\n",
              "    <tr>\n",
              "      <th>3167</th>\n",
              "      <td>0.165509</td>\n",
              "      <td>0.092884</td>\n",
              "      <td>0.183044</td>\n",
              "      <td>0.070072</td>\n",
              "      <td>0.250827</td>\n",
              "      <td>0.180756</td>\n",
              "      <td>1.705029</td>\n",
              "      <td>5.769115</td>\n",
              "      <td>0.938829</td>\n",
              "      <td>0.601529</td>\n",
              "      <td>...</td>\n",
              "      <td>0.165509</td>\n",
              "      <td>0.185607</td>\n",
              "      <td>0.062257</td>\n",
              "      <td>0.271186</td>\n",
              "      <td>0.227022</td>\n",
              "      <td>0.007812</td>\n",
              "      <td>0.554688</td>\n",
              "      <td>0.546875</td>\n",
              "      <td>0.350000</td>\n",
              "      <td>female</td>\n",
              "    </tr>\n",
              "  </tbody>\n",
              "</table>\n",
              "<p>5 rows × 21 columns</p>\n",
              "</div>\n",
              "      <button class=\"colab-df-convert\" onclick=\"convertToInteractive('df-9cd6e264-1edb-4147-bc85-89daff703cf6')\"\n",
              "              title=\"Convert this dataframe to an interactive table.\"\n",
              "              style=\"display:none;\">\n",
              "        \n",
              "  <svg xmlns=\"http://www.w3.org/2000/svg\" height=\"24px\"viewBox=\"0 0 24 24\"\n",
              "       width=\"24px\">\n",
              "    <path d=\"M0 0h24v24H0V0z\" fill=\"none\"/>\n",
              "    <path d=\"M18.56 5.44l.94 2.06.94-2.06 2.06-.94-2.06-.94-.94-2.06-.94 2.06-2.06.94zm-11 1L8.5 8.5l.94-2.06 2.06-.94-2.06-.94L8.5 2.5l-.94 2.06-2.06.94zm10 10l.94 2.06.94-2.06 2.06-.94-2.06-.94-.94-2.06-.94 2.06-2.06.94z\"/><path d=\"M17.41 7.96l-1.37-1.37c-.4-.4-.92-.59-1.43-.59-.52 0-1.04.2-1.43.59L10.3 9.45l-7.72 7.72c-.78.78-.78 2.05 0 2.83L4 21.41c.39.39.9.59 1.41.59.51 0 1.02-.2 1.41-.59l7.78-7.78 2.81-2.81c.8-.78.8-2.07 0-2.86zM5.41 20L4 18.59l7.72-7.72 1.47 1.35L5.41 20z\"/>\n",
              "  </svg>\n",
              "      </button>\n",
              "      \n",
              "  <style>\n",
              "    .colab-df-container {\n",
              "      display:flex;\n",
              "      flex-wrap:wrap;\n",
              "      gap: 12px;\n",
              "    }\n",
              "\n",
              "    .colab-df-convert {\n",
              "      background-color: #E8F0FE;\n",
              "      border: none;\n",
              "      border-radius: 50%;\n",
              "      cursor: pointer;\n",
              "      display: none;\n",
              "      fill: #1967D2;\n",
              "      height: 32px;\n",
              "      padding: 0 0 0 0;\n",
              "      width: 32px;\n",
              "    }\n",
              "\n",
              "    .colab-df-convert:hover {\n",
              "      background-color: #E2EBFA;\n",
              "      box-shadow: 0px 1px 2px rgba(60, 64, 67, 0.3), 0px 1px 3px 1px rgba(60, 64, 67, 0.15);\n",
              "      fill: #174EA6;\n",
              "    }\n",
              "\n",
              "    [theme=dark] .colab-df-convert {\n",
              "      background-color: #3B4455;\n",
              "      fill: #D2E3FC;\n",
              "    }\n",
              "\n",
              "    [theme=dark] .colab-df-convert:hover {\n",
              "      background-color: #434B5C;\n",
              "      box-shadow: 0px 1px 3px 1px rgba(0, 0, 0, 0.15);\n",
              "      filter: drop-shadow(0px 1px 2px rgba(0, 0, 0, 0.3));\n",
              "      fill: #FFFFFF;\n",
              "    }\n",
              "  </style>\n",
              "\n",
              "      <script>\n",
              "        const buttonEl =\n",
              "          document.querySelector('#df-9cd6e264-1edb-4147-bc85-89daff703cf6 button.colab-df-convert');\n",
              "        buttonEl.style.display =\n",
              "          google.colab.kernel.accessAllowed ? 'block' : 'none';\n",
              "\n",
              "        async function convertToInteractive(key) {\n",
              "          const element = document.querySelector('#df-9cd6e264-1edb-4147-bc85-89daff703cf6');\n",
              "          const dataTable =\n",
              "            await google.colab.kernel.invokeFunction('convertToInteractive',\n",
              "                                                     [key], {});\n",
              "          if (!dataTable) return;\n",
              "\n",
              "          const docLinkHtml = 'Like what you see? Visit the ' +\n",
              "            '<a target=\"_blank\" href=https://colab.research.google.com/notebooks/data_table.ipynb>data table notebook</a>'\n",
              "            + ' to learn more about interactive tables.';\n",
              "          element.innerHTML = '';\n",
              "          dataTable['output_type'] = 'display_data';\n",
              "          await google.colab.output.renderOutput(dataTable, element);\n",
              "          const docLink = document.createElement('div');\n",
              "          docLink.innerHTML = docLinkHtml;\n",
              "          element.appendChild(docLink);\n",
              "        }\n",
              "      </script>\n",
              "    </div>\n",
              "  </div>\n",
              "  "
            ],
            "text/plain": [
              "      meanfreq        sd    median       Q25       Q75       IQR      skew  \\\n",
              "3163  0.131884  0.084734  0.153707  0.049285  0.201144  0.151859  1.762129   \n",
              "3164  0.116221  0.089221  0.076758  0.042718  0.204911  0.162193  0.693730   \n",
              "3165  0.142056  0.095798  0.183731  0.033424  0.224360  0.190936  1.876502   \n",
              "3166  0.143659  0.090628  0.184976  0.043508  0.219943  0.176435  1.591065   \n",
              "3167  0.165509  0.092884  0.183044  0.070072  0.250827  0.180756  1.705029   \n",
              "\n",
              "          kurt    sp.ent       sfm  ...  centroid   meanfun    minfun  \\\n",
              "3163  6.630383  0.962934  0.763182  ...  0.131884  0.182790  0.083770   \n",
              "3164  2.503954  0.960716  0.709570  ...  0.116221  0.188980  0.034409   \n",
              "3165  6.604509  0.946854  0.654196  ...  0.142056  0.209918  0.039506   \n",
              "3166  5.388298  0.950436  0.675470  ...  0.143659  0.172375  0.034483   \n",
              "3167  5.769115  0.938829  0.601529  ...  0.165509  0.185607  0.062257   \n",
              "\n",
              "        maxfun   meandom    mindom    maxdom   dfrange   modindx   label  \n",
              "3163  0.262295  0.832899  0.007812  4.210938  4.203125  0.161929  female  \n",
              "3164  0.275862  0.909856  0.039062  3.679688  3.640625  0.277897  female  \n",
              "3165  0.275862  0.494271  0.007812  2.937500  2.929688  0.194759  female  \n",
              "3166  0.250000  0.791360  0.007812  3.593750  3.585938  0.311002  female  \n",
              "3167  0.271186  0.227022  0.007812  0.554688  0.546875  0.350000  female  \n",
              "\n",
              "[5 rows x 21 columns]"
            ]
          },
          "execution_count": 41,
          "metadata": {},
          "output_type": "execute_result"
        }
      ],
      "source": [
        "data.tail() # give last five rows "
      ]
    },
    {
      "cell_type": "code",
      "execution_count": 42,
      "metadata": {
        "colab": {
          "base_uri": "https://localhost:8080/"
        },
        "id": "TsFJ2ac3_EAq",
        "outputId": "06372681-3edb-48da-ebab-6fee70bc3508"
      },
      "outputs": [
        {
          "data": {
            "text/plain": [
              "(3168, 21)"
            ]
          },
          "execution_count": 42,
          "metadata": {},
          "output_type": "execute_result"
        }
      ],
      "source": [
        "data.shape # print shape(row, column)"
      ]
    },
    {
      "cell_type": "code",
      "execution_count": 43,
      "metadata": {
        "colab": {
          "base_uri": "https://localhost:8080/",
          "height": 364
        },
        "id": "tAI9a-rY_EAr",
        "outputId": "19a7487f-1d95-4e7b-ea31-b841011c78cd"
      },
      "outputs": [
        {
          "data": {
            "text/html": [
              "\n",
              "  <div id=\"df-c8727e5b-de08-4d80-a49c-4751cd398ebe\">\n",
              "    <div class=\"colab-df-container\">\n",
              "      <div>\n",
              "<style scoped>\n",
              "    .dataframe tbody tr th:only-of-type {\n",
              "        vertical-align: middle;\n",
              "    }\n",
              "\n",
              "    .dataframe tbody tr th {\n",
              "        vertical-align: top;\n",
              "    }\n",
              "\n",
              "    .dataframe thead th {\n",
              "        text-align: right;\n",
              "    }\n",
              "</style>\n",
              "<table border=\"1\" class=\"dataframe\">\n",
              "  <thead>\n",
              "    <tr style=\"text-align: right;\">\n",
              "      <th></th>\n",
              "      <th>meanfreq</th>\n",
              "      <th>sd</th>\n",
              "      <th>median</th>\n",
              "      <th>Q25</th>\n",
              "      <th>Q75</th>\n",
              "      <th>IQR</th>\n",
              "      <th>skew</th>\n",
              "      <th>kurt</th>\n",
              "      <th>sp.ent</th>\n",
              "      <th>sfm</th>\n",
              "      <th>mode</th>\n",
              "      <th>centroid</th>\n",
              "      <th>meanfun</th>\n",
              "      <th>minfun</th>\n",
              "      <th>maxfun</th>\n",
              "      <th>meandom</th>\n",
              "      <th>mindom</th>\n",
              "      <th>maxdom</th>\n",
              "      <th>dfrange</th>\n",
              "      <th>modindx</th>\n",
              "    </tr>\n",
              "  </thead>\n",
              "  <tbody>\n",
              "    <tr>\n",
              "      <th>count</th>\n",
              "      <td>3168.000000</td>\n",
              "      <td>3168.000000</td>\n",
              "      <td>3168.000000</td>\n",
              "      <td>3168.000000</td>\n",
              "      <td>3168.000000</td>\n",
              "      <td>3168.000000</td>\n",
              "      <td>3168.000000</td>\n",
              "      <td>3168.000000</td>\n",
              "      <td>3168.000000</td>\n",
              "      <td>3168.000000</td>\n",
              "      <td>3168.000000</td>\n",
              "      <td>3168.000000</td>\n",
              "      <td>3168.000000</td>\n",
              "      <td>3168.000000</td>\n",
              "      <td>3168.000000</td>\n",
              "      <td>3168.000000</td>\n",
              "      <td>3168.000000</td>\n",
              "      <td>3168.000000</td>\n",
              "      <td>3168.000000</td>\n",
              "      <td>3168.000000</td>\n",
              "    </tr>\n",
              "    <tr>\n",
              "      <th>mean</th>\n",
              "      <td>0.180907</td>\n",
              "      <td>0.057126</td>\n",
              "      <td>0.185621</td>\n",
              "      <td>0.140456</td>\n",
              "      <td>0.224765</td>\n",
              "      <td>0.084309</td>\n",
              "      <td>3.140168</td>\n",
              "      <td>36.568461</td>\n",
              "      <td>0.895127</td>\n",
              "      <td>0.408216</td>\n",
              "      <td>0.165282</td>\n",
              "      <td>0.180907</td>\n",
              "      <td>0.142807</td>\n",
              "      <td>0.036802</td>\n",
              "      <td>0.258842</td>\n",
              "      <td>0.829211</td>\n",
              "      <td>0.052647</td>\n",
              "      <td>5.047277</td>\n",
              "      <td>4.994630</td>\n",
              "      <td>0.173752</td>\n",
              "    </tr>\n",
              "    <tr>\n",
              "      <th>std</th>\n",
              "      <td>0.029918</td>\n",
              "      <td>0.016652</td>\n",
              "      <td>0.036360</td>\n",
              "      <td>0.048680</td>\n",
              "      <td>0.023639</td>\n",
              "      <td>0.042783</td>\n",
              "      <td>4.240529</td>\n",
              "      <td>134.928661</td>\n",
              "      <td>0.044980</td>\n",
              "      <td>0.177521</td>\n",
              "      <td>0.077203</td>\n",
              "      <td>0.029918</td>\n",
              "      <td>0.032304</td>\n",
              "      <td>0.019220</td>\n",
              "      <td>0.030077</td>\n",
              "      <td>0.525205</td>\n",
              "      <td>0.063299</td>\n",
              "      <td>3.521157</td>\n",
              "      <td>3.520039</td>\n",
              "      <td>0.119454</td>\n",
              "    </tr>\n",
              "    <tr>\n",
              "      <th>min</th>\n",
              "      <td>0.039363</td>\n",
              "      <td>0.018363</td>\n",
              "      <td>0.010975</td>\n",
              "      <td>0.000229</td>\n",
              "      <td>0.042946</td>\n",
              "      <td>0.014558</td>\n",
              "      <td>0.141735</td>\n",
              "      <td>2.068455</td>\n",
              "      <td>0.738651</td>\n",
              "      <td>0.036876</td>\n",
              "      <td>0.000000</td>\n",
              "      <td>0.039363</td>\n",
              "      <td>0.055565</td>\n",
              "      <td>0.009775</td>\n",
              "      <td>0.103093</td>\n",
              "      <td>0.007812</td>\n",
              "      <td>0.004883</td>\n",
              "      <td>0.007812</td>\n",
              "      <td>0.000000</td>\n",
              "      <td>0.000000</td>\n",
              "    </tr>\n",
              "    <tr>\n",
              "      <th>25%</th>\n",
              "      <td>0.163662</td>\n",
              "      <td>0.041954</td>\n",
              "      <td>0.169593</td>\n",
              "      <td>0.111087</td>\n",
              "      <td>0.208747</td>\n",
              "      <td>0.042560</td>\n",
              "      <td>1.649569</td>\n",
              "      <td>5.669547</td>\n",
              "      <td>0.861811</td>\n",
              "      <td>0.258041</td>\n",
              "      <td>0.118016</td>\n",
              "      <td>0.163662</td>\n",
              "      <td>0.116998</td>\n",
              "      <td>0.018223</td>\n",
              "      <td>0.253968</td>\n",
              "      <td>0.419828</td>\n",
              "      <td>0.007812</td>\n",
              "      <td>2.070312</td>\n",
              "      <td>2.044922</td>\n",
              "      <td>0.099766</td>\n",
              "    </tr>\n",
              "    <tr>\n",
              "      <th>50%</th>\n",
              "      <td>0.184838</td>\n",
              "      <td>0.059155</td>\n",
              "      <td>0.190032</td>\n",
              "      <td>0.140286</td>\n",
              "      <td>0.225684</td>\n",
              "      <td>0.094280</td>\n",
              "      <td>2.197101</td>\n",
              "      <td>8.318463</td>\n",
              "      <td>0.901767</td>\n",
              "      <td>0.396335</td>\n",
              "      <td>0.186599</td>\n",
              "      <td>0.184838</td>\n",
              "      <td>0.140519</td>\n",
              "      <td>0.046110</td>\n",
              "      <td>0.271186</td>\n",
              "      <td>0.765795</td>\n",
              "      <td>0.023438</td>\n",
              "      <td>4.992188</td>\n",
              "      <td>4.945312</td>\n",
              "      <td>0.139357</td>\n",
              "    </tr>\n",
              "    <tr>\n",
              "      <th>75%</th>\n",
              "      <td>0.199146</td>\n",
              "      <td>0.067020</td>\n",
              "      <td>0.210618</td>\n",
              "      <td>0.175939</td>\n",
              "      <td>0.243660</td>\n",
              "      <td>0.114175</td>\n",
              "      <td>2.931694</td>\n",
              "      <td>13.648905</td>\n",
              "      <td>0.928713</td>\n",
              "      <td>0.533676</td>\n",
              "      <td>0.221104</td>\n",
              "      <td>0.199146</td>\n",
              "      <td>0.169581</td>\n",
              "      <td>0.047904</td>\n",
              "      <td>0.277457</td>\n",
              "      <td>1.177166</td>\n",
              "      <td>0.070312</td>\n",
              "      <td>7.007812</td>\n",
              "      <td>6.992188</td>\n",
              "      <td>0.209183</td>\n",
              "    </tr>\n",
              "    <tr>\n",
              "      <th>max</th>\n",
              "      <td>0.251124</td>\n",
              "      <td>0.115273</td>\n",
              "      <td>0.261224</td>\n",
              "      <td>0.247347</td>\n",
              "      <td>0.273469</td>\n",
              "      <td>0.252225</td>\n",
              "      <td>34.725453</td>\n",
              "      <td>1309.612887</td>\n",
              "      <td>0.981997</td>\n",
              "      <td>0.842936</td>\n",
              "      <td>0.280000</td>\n",
              "      <td>0.251124</td>\n",
              "      <td>0.237636</td>\n",
              "      <td>0.204082</td>\n",
              "      <td>0.279114</td>\n",
              "      <td>2.957682</td>\n",
              "      <td>0.458984</td>\n",
              "      <td>21.867188</td>\n",
              "      <td>21.843750</td>\n",
              "      <td>0.932374</td>\n",
              "    </tr>\n",
              "  </tbody>\n",
              "</table>\n",
              "</div>\n",
              "      <button class=\"colab-df-convert\" onclick=\"convertToInteractive('df-c8727e5b-de08-4d80-a49c-4751cd398ebe')\"\n",
              "              title=\"Convert this dataframe to an interactive table.\"\n",
              "              style=\"display:none;\">\n",
              "        \n",
              "  <svg xmlns=\"http://www.w3.org/2000/svg\" height=\"24px\"viewBox=\"0 0 24 24\"\n",
              "       width=\"24px\">\n",
              "    <path d=\"M0 0h24v24H0V0z\" fill=\"none\"/>\n",
              "    <path d=\"M18.56 5.44l.94 2.06.94-2.06 2.06-.94-2.06-.94-.94-2.06-.94 2.06-2.06.94zm-11 1L8.5 8.5l.94-2.06 2.06-.94-2.06-.94L8.5 2.5l-.94 2.06-2.06.94zm10 10l.94 2.06.94-2.06 2.06-.94-2.06-.94-.94-2.06-.94 2.06-2.06.94z\"/><path d=\"M17.41 7.96l-1.37-1.37c-.4-.4-.92-.59-1.43-.59-.52 0-1.04.2-1.43.59L10.3 9.45l-7.72 7.72c-.78.78-.78 2.05 0 2.83L4 21.41c.39.39.9.59 1.41.59.51 0 1.02-.2 1.41-.59l7.78-7.78 2.81-2.81c.8-.78.8-2.07 0-2.86zM5.41 20L4 18.59l7.72-7.72 1.47 1.35L5.41 20z\"/>\n",
              "  </svg>\n",
              "      </button>\n",
              "      \n",
              "  <style>\n",
              "    .colab-df-container {\n",
              "      display:flex;\n",
              "      flex-wrap:wrap;\n",
              "      gap: 12px;\n",
              "    }\n",
              "\n",
              "    .colab-df-convert {\n",
              "      background-color: #E8F0FE;\n",
              "      border: none;\n",
              "      border-radius: 50%;\n",
              "      cursor: pointer;\n",
              "      display: none;\n",
              "      fill: #1967D2;\n",
              "      height: 32px;\n",
              "      padding: 0 0 0 0;\n",
              "      width: 32px;\n",
              "    }\n",
              "\n",
              "    .colab-df-convert:hover {\n",
              "      background-color: #E2EBFA;\n",
              "      box-shadow: 0px 1px 2px rgba(60, 64, 67, 0.3), 0px 1px 3px 1px rgba(60, 64, 67, 0.15);\n",
              "      fill: #174EA6;\n",
              "    }\n",
              "\n",
              "    [theme=dark] .colab-df-convert {\n",
              "      background-color: #3B4455;\n",
              "      fill: #D2E3FC;\n",
              "    }\n",
              "\n",
              "    [theme=dark] .colab-df-convert:hover {\n",
              "      background-color: #434B5C;\n",
              "      box-shadow: 0px 1px 3px 1px rgba(0, 0, 0, 0.15);\n",
              "      filter: drop-shadow(0px 1px 2px rgba(0, 0, 0, 0.3));\n",
              "      fill: #FFFFFF;\n",
              "    }\n",
              "  </style>\n",
              "\n",
              "      <script>\n",
              "        const buttonEl =\n",
              "          document.querySelector('#df-c8727e5b-de08-4d80-a49c-4751cd398ebe button.colab-df-convert');\n",
              "        buttonEl.style.display =\n",
              "          google.colab.kernel.accessAllowed ? 'block' : 'none';\n",
              "\n",
              "        async function convertToInteractive(key) {\n",
              "          const element = document.querySelector('#df-c8727e5b-de08-4d80-a49c-4751cd398ebe');\n",
              "          const dataTable =\n",
              "            await google.colab.kernel.invokeFunction('convertToInteractive',\n",
              "                                                     [key], {});\n",
              "          if (!dataTable) return;\n",
              "\n",
              "          const docLinkHtml = 'Like what you see? Visit the ' +\n",
              "            '<a target=\"_blank\" href=https://colab.research.google.com/notebooks/data_table.ipynb>data table notebook</a>'\n",
              "            + ' to learn more about interactive tables.';\n",
              "          element.innerHTML = '';\n",
              "          dataTable['output_type'] = 'display_data';\n",
              "          await google.colab.output.renderOutput(dataTable, element);\n",
              "          const docLink = document.createElement('div');\n",
              "          docLink.innerHTML = docLinkHtml;\n",
              "          element.appendChild(docLink);\n",
              "        }\n",
              "      </script>\n",
              "    </div>\n",
              "  </div>\n",
              "  "
            ],
            "text/plain": [
              "          meanfreq           sd       median          Q25          Q75  \\\n",
              "count  3168.000000  3168.000000  3168.000000  3168.000000  3168.000000   \n",
              "mean      0.180907     0.057126     0.185621     0.140456     0.224765   \n",
              "std       0.029918     0.016652     0.036360     0.048680     0.023639   \n",
              "min       0.039363     0.018363     0.010975     0.000229     0.042946   \n",
              "25%       0.163662     0.041954     0.169593     0.111087     0.208747   \n",
              "50%       0.184838     0.059155     0.190032     0.140286     0.225684   \n",
              "75%       0.199146     0.067020     0.210618     0.175939     0.243660   \n",
              "max       0.251124     0.115273     0.261224     0.247347     0.273469   \n",
              "\n",
              "               IQR         skew         kurt       sp.ent          sfm  \\\n",
              "count  3168.000000  3168.000000  3168.000000  3168.000000  3168.000000   \n",
              "mean      0.084309     3.140168    36.568461     0.895127     0.408216   \n",
              "std       0.042783     4.240529   134.928661     0.044980     0.177521   \n",
              "min       0.014558     0.141735     2.068455     0.738651     0.036876   \n",
              "25%       0.042560     1.649569     5.669547     0.861811     0.258041   \n",
              "50%       0.094280     2.197101     8.318463     0.901767     0.396335   \n",
              "75%       0.114175     2.931694    13.648905     0.928713     0.533676   \n",
              "max       0.252225    34.725453  1309.612887     0.981997     0.842936   \n",
              "\n",
              "              mode     centroid      meanfun       minfun       maxfun  \\\n",
              "count  3168.000000  3168.000000  3168.000000  3168.000000  3168.000000   \n",
              "mean      0.165282     0.180907     0.142807     0.036802     0.258842   \n",
              "std       0.077203     0.029918     0.032304     0.019220     0.030077   \n",
              "min       0.000000     0.039363     0.055565     0.009775     0.103093   \n",
              "25%       0.118016     0.163662     0.116998     0.018223     0.253968   \n",
              "50%       0.186599     0.184838     0.140519     0.046110     0.271186   \n",
              "75%       0.221104     0.199146     0.169581     0.047904     0.277457   \n",
              "max       0.280000     0.251124     0.237636     0.204082     0.279114   \n",
              "\n",
              "           meandom       mindom       maxdom      dfrange      modindx  \n",
              "count  3168.000000  3168.000000  3168.000000  3168.000000  3168.000000  \n",
              "mean      0.829211     0.052647     5.047277     4.994630     0.173752  \n",
              "std       0.525205     0.063299     3.521157     3.520039     0.119454  \n",
              "min       0.007812     0.004883     0.007812     0.000000     0.000000  \n",
              "25%       0.419828     0.007812     2.070312     2.044922     0.099766  \n",
              "50%       0.765795     0.023438     4.992188     4.945312     0.139357  \n",
              "75%       1.177166     0.070312     7.007812     6.992188     0.209183  \n",
              "max       2.957682     0.458984    21.867188    21.843750     0.932374  "
            ]
          },
          "execution_count": 43,
          "metadata": {},
          "output_type": "execute_result"
        }
      ],
      "source": [
        "data.describe()"
      ]
    },
    {
      "cell_type": "code",
      "execution_count": 44,
      "metadata": {
        "colab": {
          "base_uri": "https://localhost:8080/"
        },
        "id": "ndAQrKvE_EAr",
        "outputId": "a37b31ba-0a85-4a26-e81c-d014f0b19d27"
      },
      "outputs": [
        {
          "name": "stdout",
          "output_type": "stream",
          "text": [
            "<class 'pandas.core.frame.DataFrame'>\n",
            "RangeIndex: 3168 entries, 0 to 3167\n",
            "Data columns (total 21 columns):\n",
            " #   Column    Non-Null Count  Dtype  \n",
            "---  ------    --------------  -----  \n",
            " 0   meanfreq  3168 non-null   float64\n",
            " 1   sd        3168 non-null   float64\n",
            " 2   median    3168 non-null   float64\n",
            " 3   Q25       3168 non-null   float64\n",
            " 4   Q75       3168 non-null   float64\n",
            " 5   IQR       3168 non-null   float64\n",
            " 6   skew      3168 non-null   float64\n",
            " 7   kurt      3168 non-null   float64\n",
            " 8   sp.ent    3168 non-null   float64\n",
            " 9   sfm       3168 non-null   float64\n",
            " 10  mode      3168 non-null   float64\n",
            " 11  centroid  3168 non-null   float64\n",
            " 12  meanfun   3168 non-null   float64\n",
            " 13  minfun    3168 non-null   float64\n",
            " 14  maxfun    3168 non-null   float64\n",
            " 15  meandom   3168 non-null   float64\n",
            " 16  mindom    3168 non-null   float64\n",
            " 17  maxdom    3168 non-null   float64\n",
            " 18  dfrange   3168 non-null   float64\n",
            " 19  modindx   3168 non-null   float64\n",
            " 20  label     3168 non-null   object \n",
            "dtypes: float64(20), object(1)\n",
            "memory usage: 519.9+ KB\n"
          ]
        }
      ],
      "source": [
        "data.info()  # check what kind of data are "
      ]
    },
    {
      "cell_type": "markdown",
      "metadata": {
        "id": "gN2yyo8d_EAs"
      },
      "source": [
        "## we have object type only label which we need to encode for machine learning models"
      ]
    },
    {
      "cell_type": "code",
      "execution_count": 45,
      "metadata": {
        "colab": {
          "base_uri": "https://localhost:8080/"
        },
        "id": "sBrkQZKB_EAt",
        "outputId": "03e4c8fd-f767-4712-ac8d-9083d10861aa"
      },
      "outputs": [
        {
          "data": {
            "text/plain": [
              "False"
            ]
          },
          "execution_count": 45,
          "metadata": {},
          "output_type": "execute_result"
        }
      ],
      "source": [
        "data.isnull().values.any()  # check data has any values null/nan or not"
      ]
    },
    {
      "cell_type": "code",
      "execution_count": 46,
      "metadata": {
        "id": "qCKS1Cjh_EAu"
      },
      "outputs": [],
      "source": [
        "#It's good sign we dont have to do fill empty places"
      ]
    },
    {
      "cell_type": "code",
      "execution_count": 47,
      "metadata": {
        "colab": {
          "base_uri": "https://localhost:8080/"
        },
        "id": "m-gevqW2_EAu",
        "outputId": "04a53232-ce81-4af9-ded7-144ab2d34bda"
      },
      "outputs": [
        {
          "name": "stdout",
          "output_type": "stream",
          "text": [
            "['meanfreq', 'sd', 'median', 'Q25', 'Q75', 'IQR', 'skew', 'kurt', 'sp.ent', 'sfm', 'mode', 'centroid', 'meanfun', 'minfun', 'maxfun', 'meandom', 'mindom', 'maxdom', 'dfrange', 'modindx', 'label']\n"
          ]
        }
      ],
      "source": [
        "column_names = data.columns.tolist()\n",
        "print(column_names)   # print columns name"
      ]
    },
    {
      "cell_type": "code",
      "execution_count": 48,
      "metadata": {
        "colab": {
          "base_uri": "https://localhost:8080/",
          "height": 740
        },
        "id": "FYkZ74qe_EAv",
        "outputId": "5edeeb7a-f831-4883-bb8d-6bd6e9b62a22"
      },
      "outputs": [
        {
          "data": {
            "text/html": [
              "\n",
              "  <div id=\"df-3d88d041-789c-4060-84c1-9ef85f006054\">\n",
              "    <div class=\"colab-df-container\">\n",
              "      <div>\n",
              "<style scoped>\n",
              "    .dataframe tbody tr th:only-of-type {\n",
              "        vertical-align: middle;\n",
              "    }\n",
              "\n",
              "    .dataframe tbody tr th {\n",
              "        vertical-align: top;\n",
              "    }\n",
              "\n",
              "    .dataframe thead th {\n",
              "        text-align: right;\n",
              "    }\n",
              "</style>\n",
              "<table border=\"1\" class=\"dataframe\">\n",
              "  <thead>\n",
              "    <tr style=\"text-align: right;\">\n",
              "      <th></th>\n",
              "      <th>meanfreq</th>\n",
              "      <th>sd</th>\n",
              "      <th>median</th>\n",
              "      <th>Q25</th>\n",
              "      <th>Q75</th>\n",
              "      <th>IQR</th>\n",
              "      <th>skew</th>\n",
              "      <th>kurt</th>\n",
              "      <th>sp.ent</th>\n",
              "      <th>sfm</th>\n",
              "      <th>mode</th>\n",
              "      <th>centroid</th>\n",
              "      <th>meanfun</th>\n",
              "      <th>minfun</th>\n",
              "      <th>maxfun</th>\n",
              "      <th>meandom</th>\n",
              "      <th>mindom</th>\n",
              "      <th>maxdom</th>\n",
              "      <th>dfrange</th>\n",
              "      <th>modindx</th>\n",
              "    </tr>\n",
              "  </thead>\n",
              "  <tbody>\n",
              "    <tr>\n",
              "      <th>meanfreq</th>\n",
              "      <td>1.000000</td>\n",
              "      <td>-0.739039</td>\n",
              "      <td>0.925445</td>\n",
              "      <td>0.911416</td>\n",
              "      <td>0.740997</td>\n",
              "      <td>-0.627605</td>\n",
              "      <td>-0.322327</td>\n",
              "      <td>-0.316036</td>\n",
              "      <td>-0.601203</td>\n",
              "      <td>-0.784332</td>\n",
              "      <td>0.687715</td>\n",
              "      <td>1.000000</td>\n",
              "      <td>0.460844</td>\n",
              "      <td>0.383937</td>\n",
              "      <td>0.274004</td>\n",
              "      <td>0.536666</td>\n",
              "      <td>0.229261</td>\n",
              "      <td>0.519528</td>\n",
              "      <td>0.515570</td>\n",
              "      <td>-0.216979</td>\n",
              "    </tr>\n",
              "    <tr>\n",
              "      <th>sd</th>\n",
              "      <td>-0.739039</td>\n",
              "      <td>1.000000</td>\n",
              "      <td>-0.562603</td>\n",
              "      <td>-0.846931</td>\n",
              "      <td>-0.161076</td>\n",
              "      <td>0.874660</td>\n",
              "      <td>0.314597</td>\n",
              "      <td>0.346241</td>\n",
              "      <td>0.716620</td>\n",
              "      <td>0.838086</td>\n",
              "      <td>-0.529150</td>\n",
              "      <td>-0.739039</td>\n",
              "      <td>-0.466281</td>\n",
              "      <td>-0.345609</td>\n",
              "      <td>-0.129662</td>\n",
              "      <td>-0.482726</td>\n",
              "      <td>-0.357667</td>\n",
              "      <td>-0.482278</td>\n",
              "      <td>-0.475999</td>\n",
              "      <td>0.122660</td>\n",
              "    </tr>\n",
              "    <tr>\n",
              "      <th>median</th>\n",
              "      <td>0.925445</td>\n",
              "      <td>-0.562603</td>\n",
              "      <td>1.000000</td>\n",
              "      <td>0.774922</td>\n",
              "      <td>0.731849</td>\n",
              "      <td>-0.477352</td>\n",
              "      <td>-0.257407</td>\n",
              "      <td>-0.243382</td>\n",
              "      <td>-0.502005</td>\n",
              "      <td>-0.661690</td>\n",
              "      <td>0.677433</td>\n",
              "      <td>0.925445</td>\n",
              "      <td>0.414909</td>\n",
              "      <td>0.337602</td>\n",
              "      <td>0.251328</td>\n",
              "      <td>0.455943</td>\n",
              "      <td>0.191169</td>\n",
              "      <td>0.438919</td>\n",
              "      <td>0.435621</td>\n",
              "      <td>-0.213298</td>\n",
              "    </tr>\n",
              "    <tr>\n",
              "      <th>Q25</th>\n",
              "      <td>0.911416</td>\n",
              "      <td>-0.846931</td>\n",
              "      <td>0.774922</td>\n",
              "      <td>1.000000</td>\n",
              "      <td>0.477140</td>\n",
              "      <td>-0.874189</td>\n",
              "      <td>-0.319475</td>\n",
              "      <td>-0.350182</td>\n",
              "      <td>-0.648126</td>\n",
              "      <td>-0.766875</td>\n",
              "      <td>0.591277</td>\n",
              "      <td>0.911416</td>\n",
              "      <td>0.545035</td>\n",
              "      <td>0.320994</td>\n",
              "      <td>0.199841</td>\n",
              "      <td>0.467403</td>\n",
              "      <td>0.302255</td>\n",
              "      <td>0.459683</td>\n",
              "      <td>0.454394</td>\n",
              "      <td>-0.141377</td>\n",
              "    </tr>\n",
              "    <tr>\n",
              "      <th>Q75</th>\n",
              "      <td>0.740997</td>\n",
              "      <td>-0.161076</td>\n",
              "      <td>0.731849</td>\n",
              "      <td>0.477140</td>\n",
              "      <td>1.000000</td>\n",
              "      <td>0.009636</td>\n",
              "      <td>-0.206339</td>\n",
              "      <td>-0.148881</td>\n",
              "      <td>-0.174905</td>\n",
              "      <td>-0.378198</td>\n",
              "      <td>0.486857</td>\n",
              "      <td>0.740997</td>\n",
              "      <td>0.155091</td>\n",
              "      <td>0.258002</td>\n",
              "      <td>0.285584</td>\n",
              "      <td>0.359181</td>\n",
              "      <td>-0.023750</td>\n",
              "      <td>0.335114</td>\n",
              "      <td>0.335648</td>\n",
              "      <td>-0.216475</td>\n",
              "    </tr>\n",
              "    <tr>\n",
              "      <th>IQR</th>\n",
              "      <td>-0.627605</td>\n",
              "      <td>0.874660</td>\n",
              "      <td>-0.477352</td>\n",
              "      <td>-0.874189</td>\n",
              "      <td>0.009636</td>\n",
              "      <td>1.000000</td>\n",
              "      <td>0.249497</td>\n",
              "      <td>0.316185</td>\n",
              "      <td>0.640813</td>\n",
              "      <td>0.663601</td>\n",
              "      <td>-0.403764</td>\n",
              "      <td>-0.627605</td>\n",
              "      <td>-0.534462</td>\n",
              "      <td>-0.222680</td>\n",
              "      <td>-0.069588</td>\n",
              "      <td>-0.333362</td>\n",
              "      <td>-0.357037</td>\n",
              "      <td>-0.337877</td>\n",
              "      <td>-0.331563</td>\n",
              "      <td>0.041252</td>\n",
              "    </tr>\n",
              "    <tr>\n",
              "      <th>skew</th>\n",
              "      <td>-0.322327</td>\n",
              "      <td>0.314597</td>\n",
              "      <td>-0.257407</td>\n",
              "      <td>-0.319475</td>\n",
              "      <td>-0.206339</td>\n",
              "      <td>0.249497</td>\n",
              "      <td>1.000000</td>\n",
              "      <td>0.977020</td>\n",
              "      <td>-0.195459</td>\n",
              "      <td>0.079694</td>\n",
              "      <td>-0.434859</td>\n",
              "      <td>-0.322327</td>\n",
              "      <td>-0.167668</td>\n",
              "      <td>-0.216954</td>\n",
              "      <td>-0.080861</td>\n",
              "      <td>-0.336848</td>\n",
              "      <td>-0.061608</td>\n",
              "      <td>-0.305651</td>\n",
              "      <td>-0.304640</td>\n",
              "      <td>-0.169325</td>\n",
              "    </tr>\n",
              "    <tr>\n",
              "      <th>kurt</th>\n",
              "      <td>-0.316036</td>\n",
              "      <td>0.346241</td>\n",
              "      <td>-0.243382</td>\n",
              "      <td>-0.350182</td>\n",
              "      <td>-0.148881</td>\n",
              "      <td>0.316185</td>\n",
              "      <td>0.977020</td>\n",
              "      <td>1.000000</td>\n",
              "      <td>-0.127644</td>\n",
              "      <td>0.109884</td>\n",
              "      <td>-0.406722</td>\n",
              "      <td>-0.316036</td>\n",
              "      <td>-0.194560</td>\n",
              "      <td>-0.203201</td>\n",
              "      <td>-0.045667</td>\n",
              "      <td>-0.303234</td>\n",
              "      <td>-0.103313</td>\n",
              "      <td>-0.274500</td>\n",
              "      <td>-0.272729</td>\n",
              "      <td>-0.205539</td>\n",
              "    </tr>\n",
              "    <tr>\n",
              "      <th>sp.ent</th>\n",
              "      <td>-0.601203</td>\n",
              "      <td>0.716620</td>\n",
              "      <td>-0.502005</td>\n",
              "      <td>-0.648126</td>\n",
              "      <td>-0.174905</td>\n",
              "      <td>0.640813</td>\n",
              "      <td>-0.195459</td>\n",
              "      <td>-0.127644</td>\n",
              "      <td>1.000000</td>\n",
              "      <td>0.866411</td>\n",
              "      <td>-0.325298</td>\n",
              "      <td>-0.601203</td>\n",
              "      <td>-0.513194</td>\n",
              "      <td>-0.305826</td>\n",
              "      <td>-0.120738</td>\n",
              "      <td>-0.293562</td>\n",
              "      <td>-0.294869</td>\n",
              "      <td>-0.324253</td>\n",
              "      <td>-0.319054</td>\n",
              "      <td>0.198074</td>\n",
              "    </tr>\n",
              "    <tr>\n",
              "      <th>sfm</th>\n",
              "      <td>-0.784332</td>\n",
              "      <td>0.838086</td>\n",
              "      <td>-0.661690</td>\n",
              "      <td>-0.766875</td>\n",
              "      <td>-0.378198</td>\n",
              "      <td>0.663601</td>\n",
              "      <td>0.079694</td>\n",
              "      <td>0.109884</td>\n",
              "      <td>0.866411</td>\n",
              "      <td>1.000000</td>\n",
              "      <td>-0.485913</td>\n",
              "      <td>-0.784332</td>\n",
              "      <td>-0.421066</td>\n",
              "      <td>-0.362100</td>\n",
              "      <td>-0.192369</td>\n",
              "      <td>-0.428442</td>\n",
              "      <td>-0.289593</td>\n",
              "      <td>-0.436649</td>\n",
              "      <td>-0.431580</td>\n",
              "      <td>0.211477</td>\n",
              "    </tr>\n",
              "    <tr>\n",
              "      <th>mode</th>\n",
              "      <td>0.687715</td>\n",
              "      <td>-0.529150</td>\n",
              "      <td>0.677433</td>\n",
              "      <td>0.591277</td>\n",
              "      <td>0.486857</td>\n",
              "      <td>-0.403764</td>\n",
              "      <td>-0.434859</td>\n",
              "      <td>-0.406722</td>\n",
              "      <td>-0.325298</td>\n",
              "      <td>-0.485913</td>\n",
              "      <td>1.000000</td>\n",
              "      <td>0.687715</td>\n",
              "      <td>0.324771</td>\n",
              "      <td>0.385467</td>\n",
              "      <td>0.172329</td>\n",
              "      <td>0.491479</td>\n",
              "      <td>0.198150</td>\n",
              "      <td>0.477187</td>\n",
              "      <td>0.473775</td>\n",
              "      <td>-0.182344</td>\n",
              "    </tr>\n",
              "    <tr>\n",
              "      <th>centroid</th>\n",
              "      <td>1.000000</td>\n",
              "      <td>-0.739039</td>\n",
              "      <td>0.925445</td>\n",
              "      <td>0.911416</td>\n",
              "      <td>0.740997</td>\n",
              "      <td>-0.627605</td>\n",
              "      <td>-0.322327</td>\n",
              "      <td>-0.316036</td>\n",
              "      <td>-0.601203</td>\n",
              "      <td>-0.784332</td>\n",
              "      <td>0.687715</td>\n",
              "      <td>1.000000</td>\n",
              "      <td>0.460844</td>\n",
              "      <td>0.383937</td>\n",
              "      <td>0.274004</td>\n",
              "      <td>0.536666</td>\n",
              "      <td>0.229261</td>\n",
              "      <td>0.519528</td>\n",
              "      <td>0.515570</td>\n",
              "      <td>-0.216979</td>\n",
              "    </tr>\n",
              "    <tr>\n",
              "      <th>meanfun</th>\n",
              "      <td>0.460844</td>\n",
              "      <td>-0.466281</td>\n",
              "      <td>0.414909</td>\n",
              "      <td>0.545035</td>\n",
              "      <td>0.155091</td>\n",
              "      <td>-0.534462</td>\n",
              "      <td>-0.167668</td>\n",
              "      <td>-0.194560</td>\n",
              "      <td>-0.513194</td>\n",
              "      <td>-0.421066</td>\n",
              "      <td>0.324771</td>\n",
              "      <td>0.460844</td>\n",
              "      <td>1.000000</td>\n",
              "      <td>0.339387</td>\n",
              "      <td>0.311950</td>\n",
              "      <td>0.270840</td>\n",
              "      <td>0.162163</td>\n",
              "      <td>0.277982</td>\n",
              "      <td>0.275154</td>\n",
              "      <td>-0.054858</td>\n",
              "    </tr>\n",
              "    <tr>\n",
              "      <th>minfun</th>\n",
              "      <td>0.383937</td>\n",
              "      <td>-0.345609</td>\n",
              "      <td>0.337602</td>\n",
              "      <td>0.320994</td>\n",
              "      <td>0.258002</td>\n",
              "      <td>-0.222680</td>\n",
              "      <td>-0.216954</td>\n",
              "      <td>-0.203201</td>\n",
              "      <td>-0.305826</td>\n",
              "      <td>-0.362100</td>\n",
              "      <td>0.385467</td>\n",
              "      <td>0.383937</td>\n",
              "      <td>0.339387</td>\n",
              "      <td>1.000000</td>\n",
              "      <td>0.213987</td>\n",
              "      <td>0.375979</td>\n",
              "      <td>0.082015</td>\n",
              "      <td>0.317860</td>\n",
              "      <td>0.316486</td>\n",
              "      <td>0.002042</td>\n",
              "    </tr>\n",
              "    <tr>\n",
              "      <th>maxfun</th>\n",
              "      <td>0.274004</td>\n",
              "      <td>-0.129662</td>\n",
              "      <td>0.251328</td>\n",
              "      <td>0.199841</td>\n",
              "      <td>0.285584</td>\n",
              "      <td>-0.069588</td>\n",
              "      <td>-0.080861</td>\n",
              "      <td>-0.045667</td>\n",
              "      <td>-0.120738</td>\n",
              "      <td>-0.192369</td>\n",
              "      <td>0.172329</td>\n",
              "      <td>0.274004</td>\n",
              "      <td>0.311950</td>\n",
              "      <td>0.213987</td>\n",
              "      <td>1.000000</td>\n",
              "      <td>0.337553</td>\n",
              "      <td>-0.243426</td>\n",
              "      <td>0.355390</td>\n",
              "      <td>0.359880</td>\n",
              "      <td>-0.363029</td>\n",
              "    </tr>\n",
              "    <tr>\n",
              "      <th>meandom</th>\n",
              "      <td>0.536666</td>\n",
              "      <td>-0.482726</td>\n",
              "      <td>0.455943</td>\n",
              "      <td>0.467403</td>\n",
              "      <td>0.359181</td>\n",
              "      <td>-0.333362</td>\n",
              "      <td>-0.336848</td>\n",
              "      <td>-0.303234</td>\n",
              "      <td>-0.293562</td>\n",
              "      <td>-0.428442</td>\n",
              "      <td>0.491479</td>\n",
              "      <td>0.536666</td>\n",
              "      <td>0.270840</td>\n",
              "      <td>0.375979</td>\n",
              "      <td>0.337553</td>\n",
              "      <td>1.000000</td>\n",
              "      <td>0.099656</td>\n",
              "      <td>0.812838</td>\n",
              "      <td>0.811304</td>\n",
              "      <td>-0.180954</td>\n",
              "    </tr>\n",
              "    <tr>\n",
              "      <th>mindom</th>\n",
              "      <td>0.229261</td>\n",
              "      <td>-0.357667</td>\n",
              "      <td>0.191169</td>\n",
              "      <td>0.302255</td>\n",
              "      <td>-0.023750</td>\n",
              "      <td>-0.357037</td>\n",
              "      <td>-0.061608</td>\n",
              "      <td>-0.103313</td>\n",
              "      <td>-0.294869</td>\n",
              "      <td>-0.289593</td>\n",
              "      <td>0.198150</td>\n",
              "      <td>0.229261</td>\n",
              "      <td>0.162163</td>\n",
              "      <td>0.082015</td>\n",
              "      <td>-0.243426</td>\n",
              "      <td>0.099656</td>\n",
              "      <td>1.000000</td>\n",
              "      <td>0.026640</td>\n",
              "      <td>0.008666</td>\n",
              "      <td>0.200212</td>\n",
              "    </tr>\n",
              "    <tr>\n",
              "      <th>maxdom</th>\n",
              "      <td>0.519528</td>\n",
              "      <td>-0.482278</td>\n",
              "      <td>0.438919</td>\n",
              "      <td>0.459683</td>\n",
              "      <td>0.335114</td>\n",
              "      <td>-0.337877</td>\n",
              "      <td>-0.305651</td>\n",
              "      <td>-0.274500</td>\n",
              "      <td>-0.324253</td>\n",
              "      <td>-0.436649</td>\n",
              "      <td>0.477187</td>\n",
              "      <td>0.519528</td>\n",
              "      <td>0.277982</td>\n",
              "      <td>0.317860</td>\n",
              "      <td>0.355390</td>\n",
              "      <td>0.812838</td>\n",
              "      <td>0.026640</td>\n",
              "      <td>1.000000</td>\n",
              "      <td>0.999838</td>\n",
              "      <td>-0.425531</td>\n",
              "    </tr>\n",
              "    <tr>\n",
              "      <th>dfrange</th>\n",
              "      <td>0.515570</td>\n",
              "      <td>-0.475999</td>\n",
              "      <td>0.435621</td>\n",
              "      <td>0.454394</td>\n",
              "      <td>0.335648</td>\n",
              "      <td>-0.331563</td>\n",
              "      <td>-0.304640</td>\n",
              "      <td>-0.272729</td>\n",
              "      <td>-0.319054</td>\n",
              "      <td>-0.431580</td>\n",
              "      <td>0.473775</td>\n",
              "      <td>0.515570</td>\n",
              "      <td>0.275154</td>\n",
              "      <td>0.316486</td>\n",
              "      <td>0.359880</td>\n",
              "      <td>0.811304</td>\n",
              "      <td>0.008666</td>\n",
              "      <td>0.999838</td>\n",
              "      <td>1.000000</td>\n",
              "      <td>-0.429266</td>\n",
              "    </tr>\n",
              "    <tr>\n",
              "      <th>modindx</th>\n",
              "      <td>-0.216979</td>\n",
              "      <td>0.122660</td>\n",
              "      <td>-0.213298</td>\n",
              "      <td>-0.141377</td>\n",
              "      <td>-0.216475</td>\n",
              "      <td>0.041252</td>\n",
              "      <td>-0.169325</td>\n",
              "      <td>-0.205539</td>\n",
              "      <td>0.198074</td>\n",
              "      <td>0.211477</td>\n",
              "      <td>-0.182344</td>\n",
              "      <td>-0.216979</td>\n",
              "      <td>-0.054858</td>\n",
              "      <td>0.002042</td>\n",
              "      <td>-0.363029</td>\n",
              "      <td>-0.180954</td>\n",
              "      <td>0.200212</td>\n",
              "      <td>-0.425531</td>\n",
              "      <td>-0.429266</td>\n",
              "      <td>1.000000</td>\n",
              "    </tr>\n",
              "  </tbody>\n",
              "</table>\n",
              "</div>\n",
              "      <button class=\"colab-df-convert\" onclick=\"convertToInteractive('df-3d88d041-789c-4060-84c1-9ef85f006054')\"\n",
              "              title=\"Convert this dataframe to an interactive table.\"\n",
              "              style=\"display:none;\">\n",
              "        \n",
              "  <svg xmlns=\"http://www.w3.org/2000/svg\" height=\"24px\"viewBox=\"0 0 24 24\"\n",
              "       width=\"24px\">\n",
              "    <path d=\"M0 0h24v24H0V0z\" fill=\"none\"/>\n",
              "    <path d=\"M18.56 5.44l.94 2.06.94-2.06 2.06-.94-2.06-.94-.94-2.06-.94 2.06-2.06.94zm-11 1L8.5 8.5l.94-2.06 2.06-.94-2.06-.94L8.5 2.5l-.94 2.06-2.06.94zm10 10l.94 2.06.94-2.06 2.06-.94-2.06-.94-.94-2.06-.94 2.06-2.06.94z\"/><path d=\"M17.41 7.96l-1.37-1.37c-.4-.4-.92-.59-1.43-.59-.52 0-1.04.2-1.43.59L10.3 9.45l-7.72 7.72c-.78.78-.78 2.05 0 2.83L4 21.41c.39.39.9.59 1.41.59.51 0 1.02-.2 1.41-.59l7.78-7.78 2.81-2.81c.8-.78.8-2.07 0-2.86zM5.41 20L4 18.59l7.72-7.72 1.47 1.35L5.41 20z\"/>\n",
              "  </svg>\n",
              "      </button>\n",
              "      \n",
              "  <style>\n",
              "    .colab-df-container {\n",
              "      display:flex;\n",
              "      flex-wrap:wrap;\n",
              "      gap: 12px;\n",
              "    }\n",
              "\n",
              "    .colab-df-convert {\n",
              "      background-color: #E8F0FE;\n",
              "      border: none;\n",
              "      border-radius: 50%;\n",
              "      cursor: pointer;\n",
              "      display: none;\n",
              "      fill: #1967D2;\n",
              "      height: 32px;\n",
              "      padding: 0 0 0 0;\n",
              "      width: 32px;\n",
              "    }\n",
              "\n",
              "    .colab-df-convert:hover {\n",
              "      background-color: #E2EBFA;\n",
              "      box-shadow: 0px 1px 2px rgba(60, 64, 67, 0.3), 0px 1px 3px 1px rgba(60, 64, 67, 0.15);\n",
              "      fill: #174EA6;\n",
              "    }\n",
              "\n",
              "    [theme=dark] .colab-df-convert {\n",
              "      background-color: #3B4455;\n",
              "      fill: #D2E3FC;\n",
              "    }\n",
              "\n",
              "    [theme=dark] .colab-df-convert:hover {\n",
              "      background-color: #434B5C;\n",
              "      box-shadow: 0px 1px 3px 1px rgba(0, 0, 0, 0.15);\n",
              "      filter: drop-shadow(0px 1px 2px rgba(0, 0, 0, 0.3));\n",
              "      fill: #FFFFFF;\n",
              "    }\n",
              "  </style>\n",
              "\n",
              "      <script>\n",
              "        const buttonEl =\n",
              "          document.querySelector('#df-3d88d041-789c-4060-84c1-9ef85f006054 button.colab-df-convert');\n",
              "        buttonEl.style.display =\n",
              "          google.colab.kernel.accessAllowed ? 'block' : 'none';\n",
              "\n",
              "        async function convertToInteractive(key) {\n",
              "          const element = document.querySelector('#df-3d88d041-789c-4060-84c1-9ef85f006054');\n",
              "          const dataTable =\n",
              "            await google.colab.kernel.invokeFunction('convertToInteractive',\n",
              "                                                     [key], {});\n",
              "          if (!dataTable) return;\n",
              "\n",
              "          const docLinkHtml = 'Like what you see? Visit the ' +\n",
              "            '<a target=\"_blank\" href=https://colab.research.google.com/notebooks/data_table.ipynb>data table notebook</a>'\n",
              "            + ' to learn more about interactive tables.';\n",
              "          element.innerHTML = '';\n",
              "          dataTable['output_type'] = 'display_data';\n",
              "          await google.colab.output.renderOutput(dataTable, element);\n",
              "          const docLink = document.createElement('div');\n",
              "          docLink.innerHTML = docLinkHtml;\n",
              "          element.appendChild(docLink);\n",
              "        }\n",
              "      </script>\n",
              "    </div>\n",
              "  </div>\n",
              "  "
            ],
            "text/plain": [
              "          meanfreq        sd    median       Q25       Q75       IQR  \\\n",
              "meanfreq  1.000000 -0.739039  0.925445  0.911416  0.740997 -0.627605   \n",
              "sd       -0.739039  1.000000 -0.562603 -0.846931 -0.161076  0.874660   \n",
              "median    0.925445 -0.562603  1.000000  0.774922  0.731849 -0.477352   \n",
              "Q25       0.911416 -0.846931  0.774922  1.000000  0.477140 -0.874189   \n",
              "Q75       0.740997 -0.161076  0.731849  0.477140  1.000000  0.009636   \n",
              "IQR      -0.627605  0.874660 -0.477352 -0.874189  0.009636  1.000000   \n",
              "skew     -0.322327  0.314597 -0.257407 -0.319475 -0.206339  0.249497   \n",
              "kurt     -0.316036  0.346241 -0.243382 -0.350182 -0.148881  0.316185   \n",
              "sp.ent   -0.601203  0.716620 -0.502005 -0.648126 -0.174905  0.640813   \n",
              "sfm      -0.784332  0.838086 -0.661690 -0.766875 -0.378198  0.663601   \n",
              "mode      0.687715 -0.529150  0.677433  0.591277  0.486857 -0.403764   \n",
              "centroid  1.000000 -0.739039  0.925445  0.911416  0.740997 -0.627605   \n",
              "meanfun   0.460844 -0.466281  0.414909  0.545035  0.155091 -0.534462   \n",
              "minfun    0.383937 -0.345609  0.337602  0.320994  0.258002 -0.222680   \n",
              "maxfun    0.274004 -0.129662  0.251328  0.199841  0.285584 -0.069588   \n",
              "meandom   0.536666 -0.482726  0.455943  0.467403  0.359181 -0.333362   \n",
              "mindom    0.229261 -0.357667  0.191169  0.302255 -0.023750 -0.357037   \n",
              "maxdom    0.519528 -0.482278  0.438919  0.459683  0.335114 -0.337877   \n",
              "dfrange   0.515570 -0.475999  0.435621  0.454394  0.335648 -0.331563   \n",
              "modindx  -0.216979  0.122660 -0.213298 -0.141377 -0.216475  0.041252   \n",
              "\n",
              "              skew      kurt    sp.ent       sfm      mode  centroid  \\\n",
              "meanfreq -0.322327 -0.316036 -0.601203 -0.784332  0.687715  1.000000   \n",
              "sd        0.314597  0.346241  0.716620  0.838086 -0.529150 -0.739039   \n",
              "median   -0.257407 -0.243382 -0.502005 -0.661690  0.677433  0.925445   \n",
              "Q25      -0.319475 -0.350182 -0.648126 -0.766875  0.591277  0.911416   \n",
              "Q75      -0.206339 -0.148881 -0.174905 -0.378198  0.486857  0.740997   \n",
              "IQR       0.249497  0.316185  0.640813  0.663601 -0.403764 -0.627605   \n",
              "skew      1.000000  0.977020 -0.195459  0.079694 -0.434859 -0.322327   \n",
              "kurt      0.977020  1.000000 -0.127644  0.109884 -0.406722 -0.316036   \n",
              "sp.ent   -0.195459 -0.127644  1.000000  0.866411 -0.325298 -0.601203   \n",
              "sfm       0.079694  0.109884  0.866411  1.000000 -0.485913 -0.784332   \n",
              "mode     -0.434859 -0.406722 -0.325298 -0.485913  1.000000  0.687715   \n",
              "centroid -0.322327 -0.316036 -0.601203 -0.784332  0.687715  1.000000   \n",
              "meanfun  -0.167668 -0.194560 -0.513194 -0.421066  0.324771  0.460844   \n",
              "minfun   -0.216954 -0.203201 -0.305826 -0.362100  0.385467  0.383937   \n",
              "maxfun   -0.080861 -0.045667 -0.120738 -0.192369  0.172329  0.274004   \n",
              "meandom  -0.336848 -0.303234 -0.293562 -0.428442  0.491479  0.536666   \n",
              "mindom   -0.061608 -0.103313 -0.294869 -0.289593  0.198150  0.229261   \n",
              "maxdom   -0.305651 -0.274500 -0.324253 -0.436649  0.477187  0.519528   \n",
              "dfrange  -0.304640 -0.272729 -0.319054 -0.431580  0.473775  0.515570   \n",
              "modindx  -0.169325 -0.205539  0.198074  0.211477 -0.182344 -0.216979   \n",
              "\n",
              "           meanfun    minfun    maxfun   meandom    mindom    maxdom  \\\n",
              "meanfreq  0.460844  0.383937  0.274004  0.536666  0.229261  0.519528   \n",
              "sd       -0.466281 -0.345609 -0.129662 -0.482726 -0.357667 -0.482278   \n",
              "median    0.414909  0.337602  0.251328  0.455943  0.191169  0.438919   \n",
              "Q25       0.545035  0.320994  0.199841  0.467403  0.302255  0.459683   \n",
              "Q75       0.155091  0.258002  0.285584  0.359181 -0.023750  0.335114   \n",
              "IQR      -0.534462 -0.222680 -0.069588 -0.333362 -0.357037 -0.337877   \n",
              "skew     -0.167668 -0.216954 -0.080861 -0.336848 -0.061608 -0.305651   \n",
              "kurt     -0.194560 -0.203201 -0.045667 -0.303234 -0.103313 -0.274500   \n",
              "sp.ent   -0.513194 -0.305826 -0.120738 -0.293562 -0.294869 -0.324253   \n",
              "sfm      -0.421066 -0.362100 -0.192369 -0.428442 -0.289593 -0.436649   \n",
              "mode      0.324771  0.385467  0.172329  0.491479  0.198150  0.477187   \n",
              "centroid  0.460844  0.383937  0.274004  0.536666  0.229261  0.519528   \n",
              "meanfun   1.000000  0.339387  0.311950  0.270840  0.162163  0.277982   \n",
              "minfun    0.339387  1.000000  0.213987  0.375979  0.082015  0.317860   \n",
              "maxfun    0.311950  0.213987  1.000000  0.337553 -0.243426  0.355390   \n",
              "meandom   0.270840  0.375979  0.337553  1.000000  0.099656  0.812838   \n",
              "mindom    0.162163  0.082015 -0.243426  0.099656  1.000000  0.026640   \n",
              "maxdom    0.277982  0.317860  0.355390  0.812838  0.026640  1.000000   \n",
              "dfrange   0.275154  0.316486  0.359880  0.811304  0.008666  0.999838   \n",
              "modindx  -0.054858  0.002042 -0.363029 -0.180954  0.200212 -0.425531   \n",
              "\n",
              "           dfrange   modindx  \n",
              "meanfreq  0.515570 -0.216979  \n",
              "sd       -0.475999  0.122660  \n",
              "median    0.435621 -0.213298  \n",
              "Q25       0.454394 -0.141377  \n",
              "Q75       0.335648 -0.216475  \n",
              "IQR      -0.331563  0.041252  \n",
              "skew     -0.304640 -0.169325  \n",
              "kurt     -0.272729 -0.205539  \n",
              "sp.ent   -0.319054  0.198074  \n",
              "sfm      -0.431580  0.211477  \n",
              "mode      0.473775 -0.182344  \n",
              "centroid  0.515570 -0.216979  \n",
              "meanfun   0.275154 -0.054858  \n",
              "minfun    0.316486  0.002042  \n",
              "maxfun    0.359880 -0.363029  \n",
              "meandom   0.811304 -0.180954  \n",
              "mindom    0.008666  0.200212  \n",
              "maxdom    0.999838 -0.425531  \n",
              "dfrange   1.000000 -0.429266  \n",
              "modindx  -0.429266  1.000000  "
            ]
          },
          "execution_count": 48,
          "metadata": {},
          "output_type": "execute_result"
        }
      ],
      "source": [
        "correlation = data.corr()\n",
        "correlation"
      ]
    },
    {
      "cell_type": "code",
      "execution_count": 49,
      "metadata": {
        "colab": {
          "base_uri": "https://localhost:8080/",
          "height": 488
        },
        "id": "zgnpVK7P_EAv",
        "outputId": "a9959e96-ba60-4134-9156-dc3e37d94829"
      },
      "outputs": [
        {
          "data": {
            "image/png": "[encoded data removed]",
            "text/plain": [
              "<Figure size 576x576 with 2 Axes>"
            ]
          },
          "metadata": {
            "needs_background": "light"
          },
          "output_type": "display_data"
        }
      ],
      "source": [
        "# plot correlation matrix\n",
        "f, ax = plt.subplots(figsize = (8,8))\n",
        "# Draw the heatmap using seaborn\n",
        "sns.heatmap(correlation, square = True)\n",
        "plt.show()"
      ]
    },
    {
      "cell_type": "code",
      "execution_count": 50,
      "metadata": {
        "colab": {
          "base_uri": "https://localhost:8080/",
          "height": 319
        },
        "id": "0ed-ssyT_EAw",
        "outputId": "d3a92d18-fc6c-4e4a-b73f-736a4b21be38"
      },
      "outputs": [
        {
          "data": {
            "text/plain": [
              "<matplotlib.axes._subplots.AxesSubplot at 0x7f1ae2481510>"
            ]
          },
          "execution_count": 50,
          "metadata": {},
          "output_type": "execute_result"
        },
        {
          "data": {
            "image/png": "[encoded data removed]",
            "text/plain": [
              "<Figure size 432x288 with 1 Axes>"
            ]
          },
          "metadata": {
            "needs_background": "light"
          },
          "output_type": "display_data"
        }
      ],
      "source": [
        "#Box plot see comparision in labels by other features\n",
        "data.boxplot(column= 'meanfreq', by='label', grid=False)"
      ]
    },
    {
      "cell_type": "code",
      "execution_count": 51,
      "metadata": {
        "colab": {
          "base_uri": "https://localhost:8080/",
          "height": 319
        },
        "id": "znBzj3BB_EAx",
        "outputId": "56c64ce4-9658-4bc7-dc59-a6baefd9cb6f"
      },
      "outputs": [
        {
          "data": {
            "text/plain": [
              "<matplotlib.axes._subplots.AxesSubplot at 0x7f1ae24931d0>"
            ]
          },
          "execution_count": 51,
          "metadata": {},
          "output_type": "execute_result"
        },
        {
          "data": {
            "image/png": "[encoded data removed]",
            "text/plain": [
              "<Figure size 432x288 with 1 Axes>"
            ]
          },
          "metadata": {
            "needs_background": "light"
          },
          "output_type": "display_data"
        }
      ],
      "source": [
        "data.boxplot(column= 'sd', by='label', grid=False)"
      ]
    },
    {
      "cell_type": "code",
      "execution_count": 52,
      "metadata": {
        "colab": {
          "base_uri": "https://localhost:8080/",
          "height": 319
        },
        "id": "lzbncLjz_EAx",
        "outputId": "e18bad6c-7c12-4d16-e35d-87a1ed361450"
      },
      "outputs": [
        {
          "data": {
            "text/plain": [
              "<matplotlib.axes._subplots.AxesSubplot at 0x7f1ae034e550>"
            ]
          },
          "execution_count": 52,
          "metadata": {},
          "output_type": "execute_result"
        },
        {
          "data": {
            "image/png": "[encoded data removed]",
            "text/plain": [
              "<Figure size 432x288 with 1 Axes>"
            ]
          },
          "metadata": {
            "needs_background": "light"
          },
          "output_type": "display_data"
        }
      ],
      "source": [
        "data.boxplot(column= 'median', by='label', grid=False)"
      ]
    },
    {
      "cell_type": "markdown",
      "metadata": {
        "id": "KAP1w34K_EAy"
      },
      "source": [
        "Check how many datas are of male and female"
      ]
    },
    {
      "cell_type": "code",
      "execution_count": 53,
      "metadata": {
        "colab": {
          "base_uri": "https://localhost:8080/"
        },
        "id": "91UVxkLV_EAy",
        "outputId": "f6243540-205f-4ae2-9429-1286c546b407"
      },
      "outputs": [
        {
          "data": {
            "text/plain": [
              "1584"
            ]
          },
          "execution_count": 53,
          "metadata": {},
          "output_type": "execute_result"
        }
      ],
      "source": [
        "data[data['label'] == 'male'].shape[0]    "
      ]
    },
    {
      "cell_type": "code",
      "execution_count": 54,
      "metadata": {
        "colab": {
          "base_uri": "https://localhost:8080/"
        },
        "id": "6zKaL3GD_EAy",
        "outputId": "92e5674a-c29d-4f13-88fe-20c705275f4a"
      },
      "outputs": [
        {
          "data": {
            "text/plain": [
              "1584"
            ]
          },
          "execution_count": 54,
          "metadata": {},
          "output_type": "execute_result"
        }
      ],
      "source": [
        "data[data['label'] == 'female'].shape[0]   "
      ]
    },
    {
      "cell_type": "markdown",
      "metadata": {
        "id": "mwKhYGEi_EAy"
      },
      "source": [
        "So male and female have equal samples"
      ]
    },
    {
      "cell_type": "code",
      "execution_count": 55,
      "metadata": {
        "colab": {
          "base_uri": "https://localhost:8080/"
        },
        "id": "HxHRFch__EAz",
        "outputId": "383f972c-40cf-4c92-9973-0d837498464b"
      },
      "outputs": [
        {
          "name": "stdout",
          "output_type": "stream",
          "text": [
            "meanfreq     0.170813\n",
            "sd           0.065110\n",
            "median       0.175299\n",
            "Q25          0.115562\n",
            "Q75          0.226346\n",
            "IQR          0.110784\n",
            "skew         3.295460\n",
            "kurt        48.331698\n",
            "sp.ent       0.917188\n",
            "sfm          0.471670\n",
            "mode         0.152022\n",
            "centroid     0.170813\n",
            "meanfun      0.115872\n",
            "minfun       0.034175\n",
            "maxfun       0.253836\n",
            "meandom      0.728877\n",
            "mindom       0.040307\n",
            "maxdom       4.358447\n",
            "dfrange      4.318139\n",
            "modindx      0.177430\n",
            "dtype: float64\n"
          ]
        },
        {
          "name": "stderr",
          "output_type": "stream",
          "text": [
            "/usr/local/lib/python3.7/dist-packages/ipykernel_launcher.py:2: FutureWarning: Dropping of nuisance columns in DataFrame reductions (with 'numeric_only=None') is deprecated; in a future version this will raise TypeError.  Select only valid columns before calling the reduction.\n",
            "  \n"
          ]
        }
      ],
      "source": [
        "# for checking difference between mal and female\n",
        "a = data[data['label'] == 'male'].mean()\n",
        "print(a)"
      ]
    },
    {
      "cell_type": "code",
      "execution_count": 56,
      "metadata": {
        "colab": {
          "base_uri": "https://localhost:8080/"
        },
        "id": "hjJYIEkT_EAz",
        "outputId": "f02a0d01-8067-44f9-eb06-abefad0a480f"
      },
      "outputs": [
        {
          "name": "stdout",
          "output_type": "stream",
          "text": [
            "meanfreq     0.191000\n",
            "sd           0.049142\n",
            "median       0.195942\n",
            "Q25          0.165349\n",
            "Q75          0.223184\n",
            "IQR          0.057834\n",
            "skew         2.984875\n",
            "kurt        24.805224\n",
            "sp.ent       0.873066\n",
            "sfm          0.344763\n",
            "mode         0.178541\n",
            "centroid     0.191000\n",
            "meanfun      0.169742\n",
            "minfun       0.039429\n",
            "maxfun       0.263848\n",
            "meandom      0.929544\n",
            "mindom       0.064987\n",
            "maxdom       5.736107\n",
            "dfrange      5.671120\n",
            "modindx      0.170073\n",
            "dtype: float64\n"
          ]
        },
        {
          "name": "stderr",
          "output_type": "stream",
          "text": [
            "/usr/local/lib/python3.7/dist-packages/ipykernel_launcher.py:1: FutureWarning: Dropping of nuisance columns in DataFrame reductions (with 'numeric_only=None') is deprecated; in a future version this will raise TypeError.  Select only valid columns before calling the reduction.\n",
            "  \"\"\"Entry point for launching an IPython kernel.\n"
          ]
        }
      ],
      "source": [
        "b = data[data['label'] == 'female'].mean()\n",
        "print(b)"
      ]
    },
    {
      "cell_type": "code",
      "execution_count": 57,
      "metadata": {
        "colab": {
          "base_uri": "https://localhost:8080/",
          "height": 441
        },
        "id": "t6ATnsbx_EAz",
        "outputId": "4924717d-b01f-4968-e4e6-3bb536ff9a55"
      },
      "outputs": [
        {
          "data": {
            "image/png": "[encoded data removed]",
            "text/plain": [
              "<Figure size 502.5x432 with 1 Axes>"
            ]
          },
          "metadata": {
            "needs_background": "light"
          },
          "output_type": "display_data"
        }
      ],
      "source": [
        "#Distribution of male and female it's another way of box plot \n",
        "sns.FacetGrid(data, hue=\"label\", height=6) \\\n",
        "   .map(sns.kdeplot, \"meanfun\") \\\n",
        "   .add_legend()\n",
        "plt.show()"
      ]
    },
    {
      "cell_type": "code",
      "execution_count": 58,
      "metadata": {
        "colab": {
          "base_uri": "https://localhost:8080/",
          "height": 441
        },
        "id": "-7PFMvO2_EA0",
        "outputId": "0ed91df1-419a-49dd-b2e6-860a17dae53d"
      },
      "outputs": [
        {
          "data": {
            "image/png": "[encoded data removed]",
            "text/plain": [
              "<Figure size 502.5x432 with 1 Axes>"
            ]
          },
          "metadata": {
            "needs_background": "light"
          },
          "output_type": "display_data"
        }
      ],
      "source": [
        "#Distribution of male and female\n",
        "sns.FacetGrid(data, hue=\"label\", height=6) \\\n",
        "   .map(sns.kdeplot, \"meanfreq\") \\\n",
        "   .add_legend()\n",
        "plt.show()"
      ]
    },
    {
      "cell_type": "code",
      "execution_count": 59,
      "metadata": {
        "colab": {
          "base_uri": "https://localhost:8080/",
          "height": 441
        },
        "id": "XdGymiQs_EA0",
        "outputId": "91a7a734-fe6a-4b6c-cf61-2cd5f3444b26"
      },
      "outputs": [
        {
          "data": {
            "image/png": "[encoded data removed]",
            "text/plain": [
              "<Figure size 502.5x432 with 1 Axes>"
            ]
          },
          "metadata": {
            "needs_background": "light"
          },
          "output_type": "display_data"
        }
      ],
      "source": [
        "sns.FacetGrid(data, hue=\"label\", height=6) \\\n",
        "   .map(sns.kdeplot, \"IQR\") \\\n",
        "   .add_legend()\n",
        "plt.show()"
      ]
    },
    {
      "cell_type": "code",
      "execution_count": 60,
      "metadata": {
        "colab": {
          "base_uri": "https://localhost:8080/",
          "height": 545
        },
        "id": "6-tTd5lt_EA0",
        "outputId": "f236b984-4865-4d18-dcf9-a0707d21134d"
      },
      "outputs": [
        {
          "data": {
            "text/plain": [
              "<matplotlib.axes._subplots.AxesSubplot at 0x7f1ade6826d0>"
            ]
          },
          "execution_count": 60,
          "metadata": {},
          "output_type": "execute_result"
        },
        {
          "data": {
            "image/png": "[encoded data removed]",
            "text/plain": [
              "<Figure size 432x288 with 1 Axes>"
            ]
          },
          "metadata": {
            "needs_background": "light"
          },
          "output_type": "display_data"
        },
        {
          "data": {
            "image/png": "[encoded data removed]",
            "text/plain": [
              "<Figure size 432x288 with 1 Axes>"
            ]
          },
          "metadata": {
            "needs_background": "light"
          },
          "output_type": "display_data"
        }
      ],
      "source": [
        "data.plot(kind='scatter', x='meanfreq', y='dfrange')\n",
        "data.plot(kind='kde', y='meanfreq')"
      ]
    },
    {
      "cell_type": "code",
      "execution_count": 61,
      "metadata": {
        "id": "bHOAZ031_EA0"
      },
      "outputs": [],
      "source": [
        "from sklearn.model_selection import train_test_split\n",
        "from sklearn.ensemble import RandomForestClassifier\n",
        "from sklearn.metrics import accuracy_score\n",
        "from sklearn.model_selection import cross_val_score\n",
        "from sklearn.preprocessing import LabelEncoder\n",
        "from sklearn import metrics"
      ]
    },
    {
      "cell_type": "code",
      "execution_count": 62,
      "metadata": {
        "id": "4jbTsdf8_EA1"
      },
      "outputs": [],
      "source": [
        "# convert srting data into numberic eg. male 1, female 0\n",
        "df = data\n",
        "df = df.drop(['label'],axis = 1)\n",
        "X = df.values\n",
        "y = data['label'].values\n",
        "\n",
        "# only one column has object type so we encode it\n",
        "\n",
        "encoder = LabelEncoder()\n",
        "y = encoder.fit_transform(y)"
      ]
    },
    {
      "cell_type": "markdown",
      "metadata": {
        "id": "hhJvrpaM_EA1"
      },
      "source": [
        "# See importance of data standardisation"
      ]
    },
    {
      "cell_type": "markdown",
      "metadata": {
        "id": "vaOnzsDv_EA1"
      },
      "source": [
        "Data Standardisation refers to data's  mean = 0 and std(standered devision = 1) \n",
        "if data is not standered distribute then they may behave badly so it is importand to make data standered distributed for machine learning algorithms."
      ]
    },
    {
      "cell_type": "markdown",
      "metadata": {
        "id": "lbljiUal_EA1"
      },
      "source": [
        "### **With Standardisation**"
      ]
    },
    {
      "cell_type": "code",
      "execution_count": 63,
      "metadata": {
        "id": "nkmT8hHD_EA2"
      },
      "outputs": [],
      "source": [
        "from sklearn.preprocessing import StandardScaler\n",
        "\n",
        "# convert srting data into numberic eg. male 1, female 0\n",
        "df1 = data\n",
        "df1 = df1.drop(['label'],axis = 1)\n",
        "X1 = df1.values\n",
        "y1 = data['label'].values\n",
        "\n",
        "# only one column has object type so we encode it\n",
        "\n",
        "encoder = LabelEncoder()\n",
        "y1 = encoder.fit_transform(y)\n",
        "\n",
        "scaler = StandardScaler()\n",
        "scaler.fit(X1)\n",
        "X1 = scaler.transform(X1)\n",
        "\n",
        "X_train, X_test, y_train, y_test = train_test_split(X1, y1, test_size=0.2, random_state=1)"
      ]
    },
    {
      "cell_type": "markdown",
      "metadata": {
        "id": "xkBJdzG35lmP"
      },
      "source": [
        "### Logistic Regression with default hyperparameter and standardisation"
      ]
    },
    {
      "cell_type": "code",
      "execution_count": 64,
      "metadata": {
        "colab": {
          "base_uri": "https://localhost:8080/"
        },
        "id": "RDNQGHDWnaEI",
        "outputId": "380d4929-34cf-4e39-fce1-d04de211fffa"
      },
      "outputs": [
        {
          "name": "stdout",
          "output_type": "stream",
          "text": [
            "Logistic Regression's accuracy with standardisation :                   97.0031545741325 %\n",
            "Logistic Regression's precision with standardisation :                  96.91358024691358 %\n",
            "Logistic Regression's recall with standardisation :                     97.21362229102168 %\n",
            "Logistic Regression's f1_score with standardisation :                   97.06336939721793 %\n",
            "Logistic Regression's training time with standardisation :              0.057802677154541016 s\n",
            "Logistic Regression's testing time with standardisation :               0.0004837512969970703 s\n"
          ]
        }
      ],
      "source": [
        "from sklearn.linear_model import LogisticRegression\n",
        "clf = LogisticRegression()\n",
        "start = time()\n",
        "clf.fit(X_train,y_train)\n",
        "end = time()\n",
        "t1_train_lr = end - start\n",
        "start = time()\n",
        "y_pred1_lr = clf.predict(X_test)\n",
        "end = time()\n",
        "t1_test_lr = end - start\n",
        "print(f\"Logistic Regression's accuracy with standardisation :                   {metrics.accuracy_score(y_test,y_pred1_lr)*100} %\")\n",
        "print(f\"Logistic Regression's precision with standardisation :                  {metrics.precision_score(y_test,y_pred1_lr)*100} %\")\n",
        "print(f\"Logistic Regression's recall with standardisation :                     {metrics.recall_score(y_test,y_pred1_lr)*100} %\")\n",
        "print(f\"Logistic Regression's f1_score with standardisation :                   {metrics.f1_score(y_test,y_pred1_lr)*100} %\")\n",
        "print(f\"Logistic Regression's training time with standardisation :              {t1_train_lr} s\")\n",
        "print(f\"Logistic Regression's testing time with standardisation :               {t1_test_lr} s\")"
      ]
    },
    {
      "cell_type": "markdown",
      "metadata": {
        "id": "fvzusuA2_EA2"
      },
      "source": [
        "### Support Vector Machine (SVM) with default hyperparameter and standardisation"
      ]
    },
    {
      "cell_type": "code",
      "execution_count": 65,
      "metadata": {
        "colab": {
          "base_uri": "https://localhost:8080/"
        },
        "id": "P2XncF18_EA2",
        "outputId": "971491b8-03f3-45d3-8f45-fa29dc50aaa1"
      },
      "outputs": [
        {
          "name": "stdout",
          "output_type": "stream",
          "text": [
            "SVM's accuracy with standardisation :                                   97.63406940063092 %\n",
            "SVM's precision with standardisation :                                  97.82608695652173 %\n",
            "SVM's recall with standardisation :                                     97.52321981424149 %\n",
            "SVM's f1_score with standardisation :                                   97.67441860465117 %\n",
            "SVM's training time with standardisation :                              0.09363675117492676 s\n",
            "SVM's testing time with standardisation :                               0.020294904708862305 s\n"
          ]
        }
      ],
      "source": [
        "from sklearn.svm import SVC\n",
        "from sklearn import metrics\n",
        "svc=SVC() #Default hyperparameters\n",
        "start = time()\n",
        "svc.fit(X_train,y_train)\n",
        "end = time()\n",
        "t1_train_svm = end - start\n",
        "start = time()\n",
        "y_pred1_svm=svc.predict(X_test)\n",
        "end = time()\n",
        "t1_test_svm = end - start\n",
        "print(f\"SVM's accuracy with standardisation :                                   {metrics.accuracy_score(y_test,y_pred1_svm)*100} %\")\n",
        "print(f\"SVM's precision with standardisation :                                  {metrics.precision_score(y_test,y_pred1_svm)*100} %\")\n",
        "print(f\"SVM's recall with standardisation :                                     {metrics.recall_score(y_test,y_pred1_svm)*100} %\")\n",
        "print(f\"SVM's f1_score with standardisation :                                   {metrics.f1_score(y_test,y_pred1_svm)*100} %\")\n",
        "print(f\"SVM's training time with standardisation :                              {t1_train_svm} s\")\n",
        "print(f\"SVM's testing time with standardisation :                               {t1_test_svm} s\")"
      ]
    },
    {
      "cell_type": "markdown",
      "metadata": {
        "id": "Tl8xfuao_EA3"
      },
      "source": [
        "### KNeighborsClassifier (KNN) with default hyperparameter and standardisation\n"
      ]
    },
    {
      "cell_type": "code",
      "execution_count": 66,
      "metadata": {
        "colab": {
          "base_uri": "https://localhost:8080/"
        },
        "id": "ABhiyBun_EA3",
        "outputId": "1918c8eb-4db2-4a6a-e5bc-569252c2d742"
      },
      "outputs": [
        {
          "name": "stdout",
          "output_type": "stream",
          "text": [
            "kNN's accuracy with standardisation :                                   96.52996845425868 %\n",
            "kNN's precision with standardisation :                                  96.02446483180428 %\n",
            "kNN's recall with standardisation :                                     97.21362229102168 %\n",
            "kNN's f1_score with standardisation :                                   96.61538461538461 %\n",
            "kNN's training time with standardisation :                              0.009817123413085938 s\n",
            "kNN's testing time with standardisation :                               0.1947932243347168 s\n"
          ]
        }
      ],
      "source": [
        "from sklearn.neighbors import KNeighborsClassifier\n",
        "clf = KNeighborsClassifier()\n",
        "start = time()\n",
        "clf.fit(X_train, y_train)\n",
        "end = time()\n",
        "t1_train_knn = end - start\n",
        "start = time()\n",
        "y_pred1_knn = clf.predict(X_test)\n",
        "end = time()\n",
        "t1_test_knn = end - start\n",
        "print(f\"kNN's accuracy with standardisation :                                   {metrics.accuracy_score(y_test,y_pred1_knn)*100} %\")\n",
        "print(f\"kNN's precision with standardisation :                                  {metrics.precision_score(y_test,y_pred1_knn)*100} %\")\n",
        "print(f\"kNN's recall with standardisation :                                     {metrics.recall_score(y_test,y_pred1_knn)*100} %\")\n",
        "print(f\"kNN's f1_score with standardisation :                                   {metrics.f1_score(y_test,y_pred1_knn)*100} %\")\n",
        "print(f\"kNN's training time with standardisation :                              {t1_train_knn} s\")\n",
        "print(f\"kNN's testing time with standardisation :                               {t1_test_knn} s\")"
      ]
    },
    {
      "cell_type": "markdown",
      "metadata": {
        "id": "eJiK8_AL_EA3"
      },
      "source": [
        "### Random forest with default hyperparameter and standardisation"
      ]
    },
    {
      "cell_type": "code",
      "execution_count": 67,
      "metadata": {
        "colab": {
          "base_uri": "https://localhost:8080/"
        },
        "id": "tfmRdexg_EA3",
        "outputId": "d173bc74-cfc5-4655-b625-5c519399123a"
      },
      "outputs": [
        {
          "name": "stdout",
          "output_type": "stream",
          "text": [
            "Random Forest's accuracy with standardisation :                         97.63406940063092 %\n",
            "Random Forest's precision with standardisation :                        97.82608695652173 %\n",
            "Random Forest's recall with standardisation :                           97.52321981424149 %\n",
            "Random Forest's f1_score with standardisation :                         97.67441860465117 %\n",
            "Random Forest's training time with standardisation :                    0.879680871963501 s\n",
            "Random Forest's testing time with standardisation :                     1656014365.7415416 s\n"
          ]
        }
      ],
      "source": [
        "rand_forest = RandomForestClassifier()\n",
        "start = time()\n",
        "rand_forest.fit(X_train, y_train)\n",
        "end = time()\n",
        "t1_train_rf = end - start\n",
        "start = time()\n",
        "y_pred1_rf = rand_forest.predict(X_test)\n",
        "end = time()\n",
        "t1_test_rf = time()\n",
        "print(f\"Random Forest's accuracy with standardisation :                         {metrics.accuracy_score(y_test,y_pred1_rf)*100} %\")\n",
        "print(f\"Random Forest's precision with standardisation :                        {metrics.precision_score(y_test,y_pred1_rf)*100} %\")\n",
        "print(f\"Random Forest's recall with standardisation :                           {metrics.recall_score(y_test,y_pred1_rf)*100} %\")\n",
        "print(f\"Random Forest's f1_score with standardisation :                         {metrics.f1_score(y_test,y_pred1_rf)*100} %\")\n",
        "print(f\"Random Forest's training time with standardisation :                    {t1_train_rf} s\")\n",
        "print(f\"Random Forest's testing time with standardisation :                     {t1_test_rf} s\")"
      ]
    },
    {
      "cell_type": "markdown",
      "metadata": {
        "id": "98Gn3_B5Sbit"
      },
      "source": [
        "### Naïve Bayes with default hyperparameter and without standardisation"
      ]
    },
    {
      "cell_type": "code",
      "execution_count": 68,
      "metadata": {
        "id": "pSP4Ds-ASa-N"
      },
      "outputs": [],
      "source": [
        "# can not be used because of the existance of negetive values in X\n",
        "\n",
        "# from re import S\n",
        "# from sklearn.naive_bayes import MultinomialNB\n",
        "# clf = MultinomialNB()\n",
        "# start = time()\n",
        "# clf.fit(X_train, y_train)\n",
        "# end = end()\n",
        "# t1_train_nb = end - start\n",
        "# start = time()\n",
        "# y_pred1_nb = clf.predict(X_test)\n",
        "# end = time()\n",
        "# t1_test_nb = end - start\n",
        "# print(f\"Naïve Bayes's accuracy with standardisation :                         {metrics.accuracy_score(y_test,y_pred1_nb)*100} %\")\n",
        "# print(f\"Naïve Bayes's precision with standardisation :                        {metrics.precision_score(y_test,y_pred1_nb)*100} %\")\n",
        "# print(f\"Naïve Bayes's recall with standardisation :                           {metrics.recall_score(y_test,y_pred1_nb)*100} %\")\n",
        "# print(f\"Naïve Bayes's f1_score with standardisation :                         {metrics.f1_score(y_test,y_pred1_nb)*100} %\")\n",
        "# print(f\"Naïve Bayes's training time with standardisation :                    {t1_train_nb} s\")\n",
        "# print(f\"Naïve Bayes's testing time with standardisation :                     {t1_test_nb} s\")"
      ]
    },
    {
      "cell_type": "markdown",
      "metadata": {
        "id": "nqirSj2dSceY"
      },
      "source": [
        "### Decision Tree with default hyperparameter and without standardisation"
      ]
    },
    {
      "cell_type": "code",
      "execution_count": 69,
      "metadata": {
        "colab": {
          "base_uri": "https://localhost:8080/"
        },
        "id": "1cpPmO4VSaZT",
        "outputId": "455a5411-e875-47e7-9a96-ac6ac638ef01"
      },
      "outputs": [
        {
          "name": "stdout",
          "output_type": "stream",
          "text": [
            "Decision Tree's accuracy with standardisation :                         97.3186119873817 %\n",
            "Decision Tree's precision with standardisation :                        98.11320754716981 %\n",
            "Decision Tree's recall with standardisation :                           96.59442724458205 %\n",
            "Decision Tree's f1_score with standardisation :                         97.34789391575663 %\n",
            "Decision Tree's training time with standardisation :                    0.04204416275024414 s\n",
            "Decision Tree's testing time with standardisation :                     0.0004172325134277344 s\n"
          ]
        }
      ],
      "source": [
        "from sklearn.tree import DecisionTreeClassifier\n",
        "clf = DecisionTreeClassifier()\n",
        "start = time()\n",
        "clf.fit(X_train, y_train)\n",
        "end = time()\n",
        "t1_train_dt = end - start\n",
        "start = time()\n",
        "y_pred1_dt = clf.predict(X_test)\n",
        "end = time()\n",
        "t1_test_dt = end - start\n",
        "print(f\"Decision Tree's accuracy with standardisation :                         {metrics.accuracy_score(y_test,y_pred1_dt)*100} %\")\n",
        "print(f\"Decision Tree's precision with standardisation :                        {metrics.precision_score(y_test,y_pred1_dt)*100} %\")\n",
        "print(f\"Decision Tree's recall with standardisation :                           {metrics.recall_score(y_test,y_pred1_dt)*100} %\")\n",
        "print(f\"Decision Tree's f1_score with standardisation :                         {metrics.f1_score(y_test,y_pred1_dt)*100} %\")\n",
        "print(f\"Decision Tree's training time with standardisation :                    {t1_train_dt} s\")\n",
        "print(f\"Decision Tree's testing time with standardisation :                     {t1_test_dt} s\")"
      ]
    },
    {
      "cell_type": "raw",
      "metadata": {
        "id": "74l4JQav_EA3"
      },
      "source": [
        "Now see the accuracy without Standardisation"
      ]
    },
    {
      "cell_type": "markdown",
      "metadata": {
        "id": "oHxNHNMm_EA4"
      },
      "source": [
        "### **Without Standardisation**\n"
      ]
    },
    {
      "cell_type": "code",
      "execution_count": 70,
      "metadata": {
        "collapsed": true,
        "id": "EJK2rJAT_EA4"
      },
      "outputs": [],
      "source": [
        "# convert srting data into numberic eg. male 1, female 0\n",
        "df = data\n",
        "df = df.drop(['label'],axis = 1)\n",
        "X = df.values\n",
        "y = data['label'].values\n",
        "\n",
        "# only one column has object type so we encode it\n",
        "\n",
        "encoder = LabelEncoder()\n",
        "y = encoder.fit_transform(y)\n",
        "\n",
        "# 70-30% of train and test\n",
        "Xtrain, Xtest, ytrain, ytest = train_test_split(X, y, test_size=0.30)"
      ]
    },
    {
      "cell_type": "markdown",
      "metadata": {
        "id": "Zn8Kecc0FFLi"
      },
      "source": [
        "### Logistic Regression with default hyperparameter and without standardisation"
      ]
    },
    {
      "cell_type": "code",
      "execution_count": 71,
      "metadata": {
        "colab": {
          "base_uri": "https://localhost:8080/"
        },
        "id": "STUSX-tfFEL_",
        "outputId": "2cc0e25a-a26e-4788-bee6-c8b29d27dac0"
      },
      "outputs": [
        {
          "name": "stdout",
          "output_type": "stream",
          "text": [
            "Logistic Regression's accuracy without standardisation :                86.64563617245005 %\n",
            "Logistic Regression's precision without standardisation :               83.58490566037736 %\n",
            "Logistic Regression's recall without standardisation :                  91.7184265010352 %\n",
            "Logistic Regression's f1_score without standardisation :                87.4629812438302 %\n",
            "Logistic Regression's training time without standardisation :           0.09082794189453125 s\n",
            "Logistic Regression's testing time without standardisation :            0.0005135536193847656 s\n"
          ]
        },
        {
          "name": "stderr",
          "output_type": "stream",
          "text": [
            "/usr/local/lib/python3.7/dist-packages/sklearn/linear_model/_logistic.py:818: ConvergenceWarning: lbfgs failed to converge (status=1):\n",
            "STOP: TOTAL NO. of ITERATIONS REACHED LIMIT.\n",
            "\n",
            "Increase the number of iterations (max_iter) or scale the data as shown in:\n",
            "    https://scikit-learn.org/stable/modules/preprocessing.html\n",
            "Please also refer to the documentation for alternative solver options:\n",
            "    https://scikit-learn.org/stable/modules/linear_model.html#logistic-regression\n",
            "  extra_warning_msg=_LOGISTIC_SOLVER_CONVERGENCE_MSG,\n"
          ]
        }
      ],
      "source": [
        "from sklearn.linear_model import LogisticRegression\n",
        "clf = LogisticRegression()\n",
        "start = time()\n",
        "clf.fit(Xtrain,ytrain)\n",
        "end = time()\n",
        "t2_train_lr = end - start\n",
        "start = time()\n",
        "y_pred2_lr = clf.predict(Xtest)\n",
        "end = time()\n",
        "t2_test_lr = end - start\n",
        "print(f\"Logistic Regression's accuracy without standardisation :                {metrics.accuracy_score(ytest,y_pred2_lr)*100} %\")\n",
        "print(f\"Logistic Regression's precision without standardisation :               {metrics.precision_score(ytest,y_pred2_lr)*100} %\")\n",
        "print(f\"Logistic Regression's recall without standardisation :                  {metrics.recall_score(ytest,y_pred2_lr)*100} %\")\n",
        "print(f\"Logistic Regression's f1_score without standardisation :                {metrics.f1_score(ytest,y_pred2_lr)*100} %\")\n",
        "print(f\"Logistic Regression's training time without standardisation :           {t2_train_lr} s\")\n",
        "print(f\"Logistic Regression's testing time without standardisation :            {t2_test_lr} s\")"
      ]
    },
    {
      "cell_type": "markdown",
      "metadata": {
        "id": "0S7vtYZV_EA5"
      },
      "source": [
        "### Support Vector Machine (SVM) with default hyperparameter and without standardisation"
      ]
    },
    {
      "cell_type": "code",
      "execution_count": 72,
      "metadata": {
        "colab": {
          "base_uri": "https://localhost:8080/"
        },
        "id": "b_1eaCsz_EA5",
        "outputId": "d911b009-830c-45aa-bfa8-16a7bafd4970"
      },
      "outputs": [
        {
          "name": "stdout",
          "output_type": "stream",
          "text": [
            "SVM's accuracy without standardisation :                                66.45636172450052 %\n",
            "SVM's precision without standardisation :                               64.23611111111111 %\n",
            "SVM's recall without standardisation :                                  76.60455486542443 %\n",
            "SVM's f1_score without standardisation :                                69.87724268177527 %\n",
            "SVM's training time without standardisation :                           0.3473036289215088 s\n",
            "SVM's testing time without standardisation :                            0.15872454643249512 s\n"
          ]
        }
      ],
      "source": [
        "from sklearn.svm import SVC\n",
        "from sklearn import metrics\n",
        "svc=SVC() #Default hyperparameters\n",
        "start = time()\n",
        "svc.fit(Xtrain,ytrain)\n",
        "end = time()\n",
        "t2_train_svm = end - start\n",
        "start = time()\n",
        "y_pred2_svm=svc.predict(Xtest)\n",
        "end = time()\n",
        "t2_test_svm = end - start\n",
        "print(f\"SVM's accuracy without standardisation :                                {metrics.accuracy_score(ytest,y_pred2_svm)*100} %\")\n",
        "print(f\"SVM's precision without standardisation :                               {metrics.precision_score(ytest,y_pred2_svm)*100} %\")\n",
        "print(f\"SVM's recall without standardisation :                                  {metrics.recall_score(ytest,y_pred2_svm)*100} %\")\n",
        "print(f\"SVM's f1_score without standardisation :                                {metrics.f1_score(ytest,y_pred2_svm)*100} %\")\n",
        "print(f\"SVM's training time without standardisation :                           {t2_train_svm} s\")\n",
        "print(f\"SVM's testing time without standardisation :                            {t2_test_svm} s\")"
      ]
    },
    {
      "cell_type": "markdown",
      "metadata": {
        "id": "_Na-G-CV_EA6"
      },
      "source": [
        "### KNeighborsClassifier (KNN) with default hyperparameter and without standardisation\n"
      ]
    },
    {
      "cell_type": "code",
      "execution_count": 73,
      "metadata": {
        "colab": {
          "base_uri": "https://localhost:8080/"
        },
        "id": "qZEJJq0S_EA6",
        "outputId": "a0e23e57-7813-4666-d813-17aea6fb88ca"
      },
      "outputs": [
        {
          "name": "stdout",
          "output_type": "stream",
          "text": [
            "kNN's accuracy without standardisation :                                70.03154574132492 %\n",
            "kNN's precision without standardisation :                               69.64285714285714 %\n",
            "kNN's recall without standardisation :                                  72.67080745341616 %\n",
            "kNN's f1_score without standardisation :                                71.12462006079025 %\n",
            "kNN's training time without standardisation :                           0.0009412765502929688 s\n",
            "kNN's testing time without standardisation :                            0.09718799591064453 s\n"
          ]
        }
      ],
      "source": [
        "from sklearn.neighbors import KNeighborsClassifier\n",
        "clf = KNeighborsClassifier()\n",
        "start = time()\n",
        "clf.fit(Xtrain, ytrain)\n",
        "end = time()\n",
        "t2_train_knn = end - start\n",
        "start = time()\n",
        "y_pred2_knn = clf.predict(Xtest)\n",
        "end = time()\n",
        "t2_test_knn = end - start\n",
        "print(f\"kNN's accuracy without standardisation :                                {metrics.accuracy_score(ytest,y_pred2_knn)*100} %\")\n",
        "print(f\"kNN's precision without standardisation :                               {metrics.precision_score(ytest,y_pred2_knn)*100} %\")\n",
        "print(f\"kNN's recall without standardisation :                                  {metrics.recall_score(ytest,y_pred2_knn)*100} %\")\n",
        "print(f\"kNN's f1_score without standardisation :                                {metrics.f1_score(ytest,y_pred2_knn)*100} %\")\n",
        "print(f\"kNN's training time without standardisation :                           {t2_train_knn} s\")\n",
        "print(f\"kNN's testing time without standardisation :                            {t2_test_knn} s\")"
      ]
    },
    {
      "cell_type": "markdown",
      "metadata": {
        "id": "QL_dc3xT_EA4"
      },
      "source": [
        "### Random forest with default hyperparameter and without standardisation"
      ]
    },
    {
      "cell_type": "code",
      "execution_count": 74,
      "metadata": {
        "colab": {
          "base_uri": "https://localhost:8080/"
        },
        "collapsed": true,
        "id": "eOPsGEc7_EA4",
        "outputId": "b1def9c9-6f7e-4cb7-b8f7-e5e20172c9e7"
      },
      "outputs": [
        {
          "name": "stdout",
          "output_type": "stream",
          "text": [
            "Random Forest's accuracy without standardisation :                      98.42271293375394 %\n",
            "Random Forest's precision without standardisation :                     98.9539748953975 %\n",
            "Random Forest's recall without standardisation :                        97.9296066252588 %\n",
            "Random Forest's f1_score without standardisation :                      98.43912591050989 %\n",
            "Random Forest's training time without standardisation :                 0.6036970615386963 s\n",
            "Random Forest's testing time without standardisation :                  0.026269197463989258 s\n"
          ]
        }
      ],
      "source": [
        "rand_forest = RandomForestClassifier()\n",
        "start = time()\n",
        "rand_forest.fit(Xtrain, ytrain)\n",
        "end = time()\n",
        "t2_train_rf = end - start\n",
        "start = time()\n",
        "y_pred2_rf = rand_forest.predict(Xtest)\n",
        "end = time()\n",
        "t2_test_rf = end - start\n",
        "print(f\"Random Forest's accuracy without standardisation :                      {metrics.accuracy_score(ytest,y_pred2_rf)*100} %\")\n",
        "print(f\"Random Forest's precision without standardisation :                     {metrics.precision_score(ytest,y_pred2_rf)*100} %\")\n",
        "print(f\"Random Forest's recall without standardisation :                        {metrics.recall_score(ytest,y_pred2_rf)*100} %\")\n",
        "print(f\"Random Forest's f1_score without standardisation :                      {metrics.f1_score(ytest,y_pred2_rf)*100} %\")\n",
        "print(f\"Random Forest's training time without standardisation :                 {t2_train_rf} s\")\n",
        "print(f\"Random Forest's testing time without standardisation :                  {t2_test_rf} s\")"
      ]
    },
    {
      "cell_type": "markdown",
      "metadata": {
        "id": "JUHmMKK0_EA7"
      },
      "source": [
        "### Naïve Bayes with default hyperparameter and without standardisation\n",
        "\n"
      ]
    },
    {
      "cell_type": "code",
      "execution_count": 75,
      "metadata": {
        "colab": {
          "base_uri": "https://localhost:8080/"
        },
        "id": "myGA8WwL_EA7",
        "outputId": "43765b42-b8ec-4fe0-9f76-7bf49d71273d"
      },
      "outputs": [
        {
          "name": "stdout",
          "output_type": "stream",
          "text": [
            "Naïve Bayes's accuracy without standardisation :                        49.63196635120926 %\n",
            "Naïve Bayes's precision without standardisation :                       51.17647058823529 %\n",
            "Naïve Bayes's recall without standardisation :                          18.012422360248447 %\n",
            "Naïve Bayes's f1_score without standardisation :                        26.64624808575804 %\n",
            "Naïve Bayes's training time without standardisation :                   0.0021898746490478516 s\n",
            "Naïve Bayes's testing time without standardisation :                    0.00041937828063964844 s\n"
          ]
        }
      ],
      "source": [
        "from re import S\n",
        "from sklearn.naive_bayes import MultinomialNB\n",
        "clf = MultinomialNB()\n",
        "start = time()\n",
        "clf.fit(Xtrain, ytrain)\n",
        "end = time()\n",
        "t2_train_nb = end - start\n",
        "start = time()\n",
        "y_pred2_nb = clf.predict(Xtest)\n",
        "end = time()\n",
        "t2_test_nb = end - start\n",
        "print(f\"Naïve Bayes's accuracy without standardisation :                        {metrics.accuracy_score(ytest,y_pred2_nb)*100} %\")\n",
        "print(f\"Naïve Bayes's precision without standardisation :                       {metrics.precision_score(ytest,y_pred2_nb)*100} %\")\n",
        "print(f\"Naïve Bayes's recall without standardisation :                          {metrics.recall_score(ytest,y_pred2_nb)*100} %\")\n",
        "print(f\"Naïve Bayes's f1_score without standardisation :                        {metrics.f1_score(ytest,y_pred2_nb)*100} %\")\n",
        "print(f\"Naïve Bayes's training time without standardisation :                   {t2_train_nb} s\")\n",
        "print(f\"Naïve Bayes's testing time without standardisation :                    {t2_test_nb} s\")"
      ]
    },
    {
      "cell_type": "markdown",
      "metadata": {
        "id": "zwzl0j-YOP0V"
      },
      "source": [
        "### Decision Tree with default hyperparameter and without standardisation"
      ]
    },
    {
      "cell_type": "code",
      "execution_count": 76,
      "metadata": {
        "colab": {
          "base_uri": "https://localhost:8080/"
        },
        "id": "36h-lubs_EA7",
        "outputId": "c7185eb6-ce34-4530-87fd-be13cab036d5"
      },
      "outputs": [
        {
          "name": "stdout",
          "output_type": "stream",
          "text": [
            "Decision Tree's accuracy without standardisation :                      91.7981072555205 %\n",
            "Decision Tree's precision without standardisation :                     89.62818003913894 %\n",
            "Decision Tree's recall without standardisation :                        94.824016563147 %\n",
            "Decision Tree's f1_score without standardisation :                      92.15291750503017 %\n",
            "Decision Tree's training time without standardisation :                 0.04584980010986328 s\n",
            "Decision Tree's testing time without standardisation :                  0.0005686283111572266 s\n"
          ]
        }
      ],
      "source": [
        "from sklearn.tree import DecisionTreeClassifier\n",
        "clf = DecisionTreeClassifier()\n",
        "start = time()\n",
        "clf.fit(X_train, y_train)\n",
        "end = time()\n",
        "t2_train_dt = end - start\n",
        "start = time()\n",
        "y_pred2_dt = clf.predict(Xtest)\n",
        "end = time()\n",
        "t2_test_dt = end - start\n",
        "print(f\"Decision Tree's accuracy without standardisation :                      {metrics.accuracy_score(ytest,y_pred2_dt)*100} %\")\n",
        "print(f\"Decision Tree's precision without standardisation :                     {metrics.precision_score(ytest,y_pred2_dt)*100} %\")\n",
        "print(f\"Decision Tree's recall without standardisation :                        {metrics.recall_score(ytest,y_pred2_dt)*100} %\")\n",
        "print(f\"Decision Tree's f1_score without standardisation :                      {metrics.f1_score(ytest,y_pred2_dt)*100} %\")\n",
        "print(f\"Decision Tree's training time without standardisation :                 {t2_train_dt} s\")\n",
        "print(f\"Decision Tree's testing time without standardisation :                  {t2_test_dt} s\")"
      ]
    },
    {
      "cell_type": "markdown",
      "metadata": {
        "id": "t4lN0vkWdcd5"
      },
      "source": [
        "# **Comparison**"
      ]
    },
    {
      "cell_type": "code",
      "execution_count": 76,
      "metadata": {
        "id": "eJq-4z6Edktq"
      },
      "outputs": [],
      "source": []
    }
  ],
  "metadata": {
    "colab": {
      "collapsed_sections": [
        "t4lN0vkWdcd5"
      ],
      "name": "Gender Recognition by voice.ipynb",
      "provenance": []
    },
    "gpuClass": "standard",
    "kernelspec": {
      "display_name": "Python 3.9.12 ('base')",
      "language": "python",
      "name": "python3"
    },
    "language_info": {
      "name": "python",
      "version": "3.9.12"
    },
    "vscode": {
      "interpreter": {
        "hash": "a71a9e4fb054fff428071484f7faa898cb9ecb31a518fe88e3463da9af879578"
      }
    }
  },
  "nbformat": 4,
  "nbformat_minor": 0
}
